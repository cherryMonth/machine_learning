{
 "cells": [
  {
   "cell_type": "code",
   "execution_count": 1,
   "metadata": {},
   "outputs": [],
   "source": [
    "import numpy as np"
   ]
  },
  {
   "cell_type": "code",
   "execution_count": 4,
   "metadata": {},
   "outputs": [
    {
     "data": {
      "text/plain": [
       "(array([[1. , 1.1],\n",
       "        [1. , 1. ],\n",
       "        [0. , 0. ],\n",
       "        [0. , 0.1]]), ['A', 'A', 'B', 'B'])"
      ]
     },
     "execution_count": 4,
     "metadata": {},
     "output_type": "execute_result"
    }
   ],
   "source": [
    "def createDataSet():\n",
    "    group = np.array([[1.0,1.1],[1.0,1.0],[0,0],[0,0.1]])\n",
    "    labels = ['A','A','B','B']\n",
    "    return group, labels\n",
    "\n",
    "createDataSet()"
   ]
  },
  {
   "cell_type": "code",
   "execution_count": 10,
   "metadata": {},
   "outputs": [
    {
     "name": "stdout",
     "output_type": "stream",
     "text": [
      "4\n"
     ]
    }
   ],
   "source": [
    "group = createDataSet()[0].shape[0]\n",
    "print(group)"
   ]
  },
  {
   "cell_type": "markdown",
   "metadata": {},
   "source": [
    "此处用来解释下面一些numpy函数的作用。\n",
    "我使用了这个网址用来简化latex符号的编写，很方便。\n",
    "[在线制作latex数学符号](http://latex.codecogs.com/eqneditor/editor.php)\n",
    "### tile函数\n",
    "tile函数是用来重复输出，比如下面的欧式距离公式\n",
    "$$\\sqrt{\\sum_{i=1}^{n}\\left ( x_{i}-y_{i} \\right )^{2} }$$\n",
    "\n",
    "我们的输入向量现在只有一个，所以要扩充输入向量使其纬度与样本矩阵相同，然后矩阵相减。\n",
    "\n",
    "一般来说输入向量的列数与样本矩阵相同。\n",
    "\n",
    "如输入矩阵: $$\\begin{bmatrix}\n",
    " 1& 2\\\\ \n",
    "\\end{bmatrix}$$\n",
    "\n",
    "样本矩阵: $$\\begin{bmatrix}\n",
    "1 & 2\\\\ \n",
    "3 &4 \\\\ \n",
    "5 & 6\\\\ \n",
    "7 & 8\n",
    "\\end{bmatrix}$$\n"
   ]
  },
  {
   "cell_type": "code",
   "execution_count": null,
   "metadata": {},
   "outputs": [],
   "source": [
    "def classify0(inx, dataSet, labels, k):\n",
    "    dataSetSize = dataSet.shape[0]  # 得到样本数量\n",
    "    diffMat = tile(inx, (dataSetSize, 1)) - dataSet  # 构造欧氏距离矩阵\n",
    "    "
   ]
  }
 ],
 "metadata": {
  "kernelspec": {
   "display_name": "Python 3",
   "language": "python",
   "name": "python3"
  },
  "language_info": {
   "codemirror_mode": {
    "name": "ipython",
    "version": 3
   },
   "file_extension": ".py",
   "mimetype": "text/x-python",
   "name": "python",
   "nbconvert_exporter": "python",
   "pygments_lexer": "ipython3",
   "version": "3.5.4"
  }
 },
 "nbformat": 4,
 "nbformat_minor": 2
}
