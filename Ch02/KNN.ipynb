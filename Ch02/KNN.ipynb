{
 "cells": [
  {
   "cell_type": "code",
   "execution_count": 14,
   "metadata": {},
   "outputs": [],
   "source": [
    "import numpy as np\n",
    "import operator"
   ]
  },
  {
   "cell_type": "code",
   "execution_count": 4,
   "metadata": {},
   "outputs": [
    {
     "data": {
      "text/plain": [
       "(array([[1. , 1.1],\n",
       "        [1. , 1. ],\n",
       "        [0. , 0. ],\n",
       "        [0. , 0.1]]), ['A', 'A', 'B', 'B'])"
      ]
     },
     "execution_count": 4,
     "metadata": {},
     "output_type": "execute_result"
    }
   ],
   "source": [
    "def createDataSet():\n",
    "    group = np.array([[1.0,1.1],[1.0,1.0],[0,0],[0,0.1]])\n",
    "    labels = ['A','A','B','B']\n",
    "    return group, labels\n",
    "\n",
    "createDataSet()"
   ]
  },
  {
   "cell_type": "code",
   "execution_count": 10,
   "metadata": {},
   "outputs": [
    {
     "name": "stdout",
     "output_type": "stream",
     "text": [
      "4\n"
     ]
    }
   ],
   "source": [
    "group = createDataSet()[0].shape[0]\n",
    "print(group)"
   ]
  },
  {
   "cell_type": "markdown",
   "metadata": {},
   "source": [
    "此处用来解释下面一些numpy函数的作用。\n",
    "我使用了这个网址用来简化latex符号的编写，很方便。\n",
    "[在线制作latex数学符号](http://latex.codecogs.com/eqneditor/editor.php)\n",
    "### tile函数\n",
    "tile函数是用来重复输出，比如下面的欧式距离公式\n",
    "$$\\sqrt{\\sum_{i=1}^{n}\\left ( x_{i}-y_{i} \\right )^{2} }$$\n",
    "\n",
    "我们的输入向量现在只有一个，所以要扩充输入向量使其纬度与样本矩阵相同，然后矩阵相减。\n",
    "\n",
    "一般来说输入向量的列数与样本矩阵相同。\n",
    "\n",
    "如输入矩阵: $$\\begin{bmatrix}\n",
    " 1& 2\\\\ \n",
    "\\end{bmatrix}$$\n",
    "\n",
    "样本矩阵: $$\\begin{bmatrix}\n",
    "1 & 2\\\\ \n",
    "3 &4 \\\\ \n",
    "5 & 6\\\\ \n",
    "7 & 8\n",
    "\\end{bmatrix}$$\n",
    "\n",
    "我们需要扩充输入矩阵使其和样本矩阵的纬度相同，扩展成如下形式：\n",
    "\n",
    "$$\\begin{bmatrix}\n",
    "1 & 2\\\\ \n",
    "1 & 2 \\\\ \n",
    "1 & 2\\\\ \n",
    "1 & 2\n",
    "\\end{bmatrix}$$\n",
    "\n",
    "然后才能计算两个矩阵的欧式距离，具体到numpy的语法如下。"
   ]
  },
  {
   "cell_type": "code",
   "execution_count": 23,
   "metadata": {},
   "outputs": [
    {
     "data": {
      "text/plain": [
       "[('A', 1)]"
      ]
     },
     "execution_count": 23,
     "metadata": {},
     "output_type": "execute_result"
    }
   ],
   "source": [
    "def classify0(inx, dataSet, labels, k):  # 取前k个距离最小的点，小于样本的分类\n",
    "    dataSetSize = dataSet.shape[0]  # 得到样本数量\n",
    "    diffMat = np.tile(inx, (dataSetSize, 1)) - dataSet  # 扩充输入向量并减去样本矩阵\n",
    "    sqDiffMat = diffMat ** 2  # 数据差取平方\n",
    "    # 当axis为0时,是压缩行,即将每一列的元素相加,将矩阵压缩为一行 \n",
    "    # 当axis为1时,是压缩列,即将每一行的元素相加,将矩阵压缩为一列\n",
    "    sqDistances = sqDiffMat.sum(axis=1)  \n",
    "    distances = sqDistances ** 0.5  # 结果矩阵开根号即对每个结果元素开跟\n",
    "    sorteDisIndicies = distances.argsort()  # 结果升序排序，返回排序后的索引\n",
    "    classCount = dict()\n",
    "    for i in range(k):\n",
    "        voteIlabel = labels[sorteDisIndicies[i]]\n",
    "        classCount[voteIlabel] = classCount.get(voteIlabel, 0) + 1  # 计算前k个点所在类别的频率\n",
    "    \n",
    "#     operator模块提供的itemgetter函数用于获取对象的哪些维的数据，参数为一些序号（即需要获取的数据在对象中的序号），\n",
    "#     下面看例子。\n",
    "#     a = [1,2,3] \n",
    "#     >>> b=operator.itemgetter(1)      //定义函数b，获取对象的第1个域的值\n",
    "#     >>> b(a) \n",
    "#     2 \n",
    "#     >>> b=operator.itemgetter(1,0)   //定义函数b，获取对象的第1个域和第0个的值\n",
    "#     >>> b(a) \n",
    "#     (2, 1) \n",
    "\n",
    "#     要注意，operator.itemgetter函数获取的不是值，而是定义了一个函数，通过该函数作用到对象上才能获取值。\n",
    "    \n",
    "    sortedClassCount = sorted(classCount.items(), key=operator.itemgetter(1), reverse=True)  \n",
    "    # Python内置的排序函数sorted可以对list或者iterator进行排序\n",
    "    return sortedClassCount[:k]\n",
    "        \n",
    "dataSet, labels = createDataSet()\n",
    "\n",
    "classify0(np.array([1,2]), dataSet, labels, 1)"
   ]
  },
  {
   "cell_type": "markdown",
   "metadata": {},
   "source": [
    "# 实例：在约会网站上使用k-近邻算法"
   ]
  },
  {
   "cell_type": "code",
   "execution_count": 24,
   "metadata": {},
   "outputs": [],
   "source": [
    "def file2matrix(filename):\n",
    "    with open(filename) as fr:\n",
    "        arrayOLines = fr.readlines()\n",
    "        numberOfLines = len(arrayOLines)\n",
    "        returnMat = np.zeros((numberOfLines, 3))\n",
    "        classLabelVector = list()\n",
    "        index = 0\n",
    "        for line in arrayOLines:\n",
    "            line = line.strip()\n",
    "            listFormLine = line.split(\"\\t\")\n",
    "            returnMat[index,:] = listFormLine[0:3]\n",
    "            classLabelVector.append(int(listFormLine[-1]))\n",
    "            index += 1\n",
    "        return returnMat, classLabelVector"
   ]
  },
  {
   "cell_type": "code",
   "execution_count": null,
   "metadata": {},
   "outputs": [],
   "source": []
  }
 ],
 "metadata": {
  "kernelspec": {
   "display_name": "Python 3",
   "language": "python",
   "name": "python3"
  },
  "language_info": {
   "codemirror_mode": {
    "name": "ipython",
    "version": 3
   },
   "file_extension": ".py",
   "mimetype": "text/x-python",
   "name": "python",
   "nbconvert_exporter": "python",
   "pygments_lexer": "ipython3",
   "version": "3.5.4"
  }
 },
 "nbformat": 4,
 "nbformat_minor": 2
}
