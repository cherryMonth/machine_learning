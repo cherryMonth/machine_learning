{
 "cells": [
  {
   "cell_type": "code",
   "execution_count": 42,
   "metadata": {},
   "outputs": [],
   "source": [
    "import numpy as np\n",
    "from math import log"
   ]
  },
  {
   "cell_type": "code",
   "execution_count": 19,
   "metadata": {},
   "outputs": [],
   "source": [
    "def loadDataSet():\n",
    "    postingList=[['my', 'dog', 'has', 'flea', 'problems', 'help', 'please'],\n",
    "                 ['maybe', 'not', 'take', 'him', 'to', 'dog', 'park', 'stupid'],\n",
    "                 ['my', 'dalmation', 'is', 'so', 'cute', 'I', 'love', 'him'],\n",
    "                 ['stop', 'posting', 'stupid', 'worthless', 'garbage'],\n",
    "                 ['mr', 'licks', 'ate', 'my', 'steak', 'how', 'to', 'stop', 'him'],\n",
    "                 ['quit', 'buying', 'worthless', 'dog', 'food', 'stupid']]\n",
    "    classVec = [0,1,0,1,0,1]    #1 is abusive, 0 not\n",
    "    return postingList,classVec\n",
    "                 \n",
    "def createVocabList(dataSet):  # 获取所有文档不相同的次数\n",
    "    vocabSet = set()  #create empty set\n",
    "    for document in dataSet:\n",
    "        vocabSet = vocabSet | set(document) #union of the two sets\n",
    "    return list(vocabSet)\n",
    "\n",
    "def setOfWords2Vec(vocabList, inputSet):  # 统计文档中各词出现情况\n",
    "    returnVec = [0]*len(vocabList)\n",
    "    for word in inputSet:\n",
    "        if word in vocabList:\n",
    "            returnVec[vocabList.index(word)] = 1\n",
    "        else: print (\"the word: %s is not in my Vocabulary!\" % word)\n",
    "    return returnVec"
   ]
  },
  {
   "cell_type": "code",
   "execution_count": 20,
   "metadata": {},
   "outputs": [
    {
     "name": "stdout",
     "output_type": "stream",
     "text": [
      "['problems', 'love', 'flea', 'posting', 'stop', 'how', 'steak', 'not', 'worthless', 'take', 'ate', 'buying', 'mr', 'my', 'garbage', 'is', 'licks', 'please', 'park', 'has', 'cute', 'dog', 'maybe', 'quit', 'him', 'I', 'food', 'dalmation', 'so', 'stupid', 'to', 'help']\n"
     ]
    }
   ],
   "source": [
    "listOPosts, listClasses = loadDataSet()\n",
    "myVocabList = createVocabList(listOPosts)\n",
    "print(myVocabList)"
   ]
  },
  {
   "cell_type": "code",
   "execution_count": 21,
   "metadata": {},
   "outputs": [
    {
     "data": {
      "text/plain": [
       "[1,\n",
       " 0,\n",
       " 1,\n",
       " 0,\n",
       " 0,\n",
       " 0,\n",
       " 0,\n",
       " 0,\n",
       " 0,\n",
       " 0,\n",
       " 0,\n",
       " 0,\n",
       " 0,\n",
       " 1,\n",
       " 0,\n",
       " 0,\n",
       " 0,\n",
       " 1,\n",
       " 0,\n",
       " 1,\n",
       " 0,\n",
       " 1,\n",
       " 0,\n",
       " 0,\n",
       " 0,\n",
       " 0,\n",
       " 0,\n",
       " 0,\n",
       " 0,\n",
       " 0,\n",
       " 0,\n",
       " 1]"
      ]
     },
     "execution_count": 21,
     "metadata": {},
     "output_type": "execute_result"
    }
   ],
   "source": [
    "setOfWords2Vec(myVocabList, listOPosts[0])"
   ]
  },
  {
   "cell_type": "code",
   "execution_count": 32,
   "metadata": {},
   "outputs": [],
   "source": [
    "def trainNBO(trainMatrix, trainCategory):\n",
    "    numTrainDocs = len(trainMatrix)\n",
    "    numWords = len(trainMatrix[0])\n",
    "    pAbusive = sum(trainCategory) / float(numTrainDocs)\n",
    "    p0Num = np.zeros(numWords)\n",
    "    p1Num = np.zeros(numWords)\n",
    "    p0Denom = p1Denom = 0.0  # 分母\n",
    "    for i in range(numTrainDocs):\n",
    "        if trainCategory[i] == 1:  # 条件概率 记录情况为垃圾文档时各个属性的累加和\n",
    "            p1Num += trainMatrix[i]\n",
    "            p1Denom += np.sum(trainMatrix[i])  # 记录垃圾邮件的总词数\n",
    "        else:\n",
    "            p0Num += trainMatrix[i]\n",
    "            p0Denom += sum(trainMatrix[i])\n",
    "    p1Vect = p1Num / p1Denom  # 由于是累加和所以要除以总词量求各个属性在垃圾邮件的概率\n",
    "    p0Vect = p0Num / p0Denom\n",
    "    return p0Vect , p1Vect, pAbusive"
   ]
  },
  {
   "cell_type": "code",
   "execution_count": 33,
   "metadata": {},
   "outputs": [
    {
     "name": "stdout",
     "output_type": "stream",
     "text": [
      "[0, 0, 0, 0, 0, 0, 0, 1, 0, 1, 0, 0, 0, 0, 0, 0, 0, 0, 1, 0, 0, 1, 1, 0, 1, 0, 0, 0, 0, 1, 1, 0]\n",
      "[0, 0, 0, 1, 1, 0, 0, 0, 1, 0, 0, 0, 0, 0, 1, 0, 0, 0, 0, 0, 0, 0, 0, 0, 0, 0, 0, 0, 0, 1, 0, 0]\n",
      "[0, 0, 0, 0, 0, 0, 0, 0, 1, 0, 0, 1, 0, 0, 0, 0, 0, 0, 0, 0, 0, 1, 0, 1, 0, 0, 1, 0, 0, 1, 0, 0]\n",
      "[0.04166667 0.04166667 0.04166667 0.         0.04166667 0.04166667\n",
      " 0.04166667 0.         0.         0.         0.04166667 0.\n",
      " 0.04166667 0.125      0.         0.04166667 0.04166667 0.04166667\n",
      " 0.         0.04166667 0.04166667 0.04166667 0.         0.\n",
      " 0.08333333 0.04166667 0.         0.04166667 0.04166667 0.\n",
      " 0.04166667 0.04166667] [0.         0.         0.         0.05263158 0.05263158 0.\n",
      " 0.         0.05263158 0.10526316 0.05263158 0.         0.05263158\n",
      " 0.         0.         0.05263158 0.         0.         0.\n",
      " 0.05263158 0.         0.         0.10526316 0.05263158 0.05263158\n",
      " 0.05263158 0.         0.05263158 0.         0.         0.15789474\n",
      " 0.05263158 0.        ] 0.5\n"
     ]
    }
   ],
   "source": [
    "listOPosts, listClasses = loadDataSet()\n",
    "myVocabList = createVocabList(listOPosts)\n",
    "trainMat = list()\n",
    "for postinDoc in listOPosts:\n",
    "    trainMat.append(setOfWords2Vec(myVocabList, postinDoc))\n",
    "p0v, p1v,pAb = trainNBO(trainMat, listClasses)\n",
    "print(p0v, p1v, pAb)"
   ]
  },
  {
   "cell_type": "markdown",
   "metadata": {},
   "source": [
    "# 拉普拉斯修正\n",
    "由于连乘时如果有一项为0那么结果为零，显然不合理，为了避免这种情况采用“拉普拉斯修正”\n",
    "具体来说，令N表示训练集D中可能的类数，$N_{i}$表示第$i$个属性可能的取值。\n",
    "\n",
    "那么对于先验概率: \n",
    "$\\hat{P}(c) = \\frac{\\left |D_{c} \\right| + 1}{\\left |D \\right| + N}$\n",
    "\n",
    "对于后验概率: $\\hat{P}(x_{i}|c) = \\frac{\\left |D_{c,x_{i}} \\right| + 1}{\\left |D \\right| + N_{i}}$\n",
    "\n",
    "# 计算下溢\n",
    "\n",
    "计算时如果存在多个非常小的数会导致无法得到正确结果，这是由于浮点数性质导致的（可以测试计算多个很小的浮点数看看结果是否正常）。\n",
    "\n",
    "由于采用贝叶斯假设所以各个属性完全独立，此时可以采用两边同时取对数： \n",
    "\n",
    "$ln(f(x_{1},x_{2} ... x_{i}|c)) = \\sum_{1}^{i} ln(f(x_{i}|c))$\n",
    "\n",
    "采用自然对数处理则不会有任何损失，由于变换后为复合函数，其中$ln(x)$的导数严格大于0不影响原函数的单调性，仍可以在原极值点处取得极值点，所以不对结果照成影响。"
   ]
  },
  {
   "cell_type": "code",
   "execution_count": 37,
   "metadata": {},
   "outputs": [],
   "source": [
    "# 根据现实情况修改分类器\n",
    "def trainNBO(trainMatrix, trainCategory):\n",
    "    numTrainDocs = len(trainMatrix)\n",
    "    numWords = len(trainMatrix[0])\n",
    "    pAbusive = sum(trainCategory) / float(numTrainDocs)\n",
    "    p0Num = np.ones(numWords)  # 对应于拉普拉斯修正的分母，初始值为1\n",
    "    p1Num = np.ones(numWords)\n",
    "    p0Denom = p1Denom = 2.0  # 拉普拉斯修正的分母，由于属性的取值只能为0或1两种所以初始值为2\n",
    "    for i in range(numTrainDocs):\n",
    "        if trainCategory[i] == 1:  # 条件概率 记录情况为垃圾文档时各个属性的累加和\n",
    "            p1Num += trainMatrix[i]\n",
    "            p1Denom += np.sum(trainMatrix[i])  # 记录垃圾邮件的总词数\n",
    "        else:\n",
    "            p0Num += trainMatrix[i]\n",
    "            p0Denom += sum(trainMatrix[i])\n",
    "    p1Vect = p1Num / p1Denom  # 由于是累加和所以要除以总词量求各个属性在垃圾邮件的概率\n",
    "    p0Vect = p0Num / p0Denom\n",
    "    return p0Vect , p1Vect, pAbusive"
   ]
  },
  {
   "cell_type": "code",
   "execution_count": 45,
   "metadata": {},
   "outputs": [
    {
     "name": "stdout",
     "output_type": "stream",
     "text": [
      "[0 1 0 0 0 0 0 0 0 0 0 0 0 1 0 0 0 0 0 0 0 0 0 0 0 0 0 1 0 0 0 0]\n",
      "[0.04761905 0.04761905 0.04761905 0.0952381  0.0952381  0.04761905\n",
      " 0.04761905 0.0952381  0.14285714 0.0952381  0.04761905 0.0952381\n",
      " 0.04761905 0.04761905 0.0952381  0.04761905 0.04761905 0.04761905\n",
      " 0.0952381  0.04761905 0.04761905 0.14285714 0.0952381  0.0952381\n",
      " 0.0952381  0.04761905 0.0952381  0.04761905 0.04761905 0.19047619\n",
      " 0.0952381  0.04761905]\n",
      "[0.         0.04761905 0.         0.         0.         0.\n",
      " 0.         0.         0.         0.         0.         0.\n",
      " 0.         0.04761905 0.         0.         0.         0.\n",
      " 0.         0.         0.         0.         0.         0.\n",
      " 0.         0.         0.         0.04761905 0.         0.\n",
      " 0.         0.        ]\n",
      "['love', 'my', 'dalmation'] classified as:  0\n",
      "[0 0 0 0 0 0 0 0 0 0 0 0 0 0 1 0 0 0 0 0 0 0 0 0 0 0 0 0 0 1 0 0]\n",
      "[0.04761905 0.04761905 0.04761905 0.0952381  0.0952381  0.04761905\n",
      " 0.04761905 0.0952381  0.14285714 0.0952381  0.04761905 0.0952381\n",
      " 0.04761905 0.04761905 0.0952381  0.04761905 0.04761905 0.04761905\n",
      " 0.0952381  0.04761905 0.04761905 0.14285714 0.0952381  0.0952381\n",
      " 0.0952381  0.04761905 0.0952381  0.04761905 0.04761905 0.19047619\n",
      " 0.0952381  0.04761905]\n",
      "[0.         0.         0.         0.         0.         0.\n",
      " 0.         0.         0.         0.         0.         0.\n",
      " 0.         0.         0.0952381  0.         0.         0.\n",
      " 0.         0.         0.         0.         0.         0.\n",
      " 0.         0.         0.         0.         0.         0.19047619\n",
      " 0.         0.        ]\n",
      "['stupid', 'garbage'] classified as:  1\n"
     ]
    }
   ],
   "source": [
    "\"\"\"\n",
    "由于我们已经知道了垃圾邮箱和非垃圾邮箱下所有属性取值的概率，当给定我们一个样本时由于原始矩阵中不存在的属性值为0\n",
    "所以与条件概率矩阵相乘后就求得\n",
    "\n",
    "\"\"\"\n",
    "def classifyNB(vec2Classify, p0Vec, p1Vec, pClass1):\n",
    "    print(vec2Classify)\n",
    "    print(p1Vec)\n",
    "    print(vec2Classify * p1Vec)\n",
    "    p1 = sum(vec2Classify * p1Vec) + log(pClass1)    #element-wise mult\n",
    "    p0 = sum(vec2Classify * p0Vec) + log(1.0 - pClass1)\n",
    "    if p1 > p0:\n",
    "        return 1\n",
    "    else: \n",
    "        return 0\n",
    "\n",
    "def testingNB():\n",
    "    listOPosts,listClasses = loadDataSet()\n",
    "    myVocabList = createVocabList(listOPosts)\n",
    "    trainMat=[]\n",
    "    for postinDoc in listOPosts:\n",
    "        trainMat.append(setOfWords2Vec(myVocabList, postinDoc))\n",
    "    p0V,p1V,pAb = trainNBO(np.array(trainMat),np.array(listClasses))\n",
    "    testEntry = ['love', 'my', 'dalmation']\n",
    "    thisDoc = np.array(setOfWords2Vec(myVocabList, testEntry))\n",
    "    print (testEntry,'classified as: ',classifyNB(thisDoc,p0V,p1V,pAb))\n",
    "    testEntry = ['stupid', 'garbage']\n",
    "    thisDoc = np.array(setOfWords2Vec(myVocabList, testEntry))\n",
    "    print (testEntry,'classified as: ',classifyNB(thisDoc,p0V,p1V,pAb))\n",
    "testingNB()"
   ]
  },
  {
   "cell_type": "code",
   "execution_count": null,
   "metadata": {},
   "outputs": [],
   "source": []
  }
 ],
 "metadata": {
  "kernelspec": {
   "display_name": "Python 3",
   "language": "python",
   "name": "python3"
  },
  "language_info": {
   "codemirror_mode": {
    "name": "ipython",
    "version": 3
   },
   "file_extension": ".py",
   "mimetype": "text/x-python",
   "name": "python",
   "nbconvert_exporter": "python",
   "pygments_lexer": "ipython3",
   "version": "3.5.6"
  }
 },
 "nbformat": 4,
 "nbformat_minor": 2
}
