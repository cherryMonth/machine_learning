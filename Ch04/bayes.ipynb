{
 "cells": [
  {
   "cell_type": "code",
   "execution_count": 1,
   "metadata": {},
   "outputs": [],
   "source": [
    "import numpy as np\n",
    "from math import log"
   ]
  },
  {
   "cell_type": "code",
   "execution_count": 2,
   "metadata": {},
   "outputs": [],
   "source": [
    "def loadDataSet():\n",
    "    postingList=[['my', 'dog', 'has', 'flea', 'problems', 'help', 'please'],\n",
    "                 ['maybe', 'not', 'take', 'him', 'to', 'dog', 'park', 'stupid'],\n",
    "                 ['my', 'dalmation', 'is', 'so', 'cute', 'I', 'love', 'him'],\n",
    "                 ['stop', 'posting', 'stupid', 'worthless', 'garbage'],\n",
    "                 ['mr', 'licks', 'ate', 'my', 'steak', 'how', 'to', 'stop', 'him'],\n",
    "                 ['quit', 'buying', 'worthless', 'dog', 'food', 'stupid']]\n",
    "    classVec = [0,1,0,1,0,1]    #1 is abusive, 0 not\n",
    "    return postingList,classVec\n",
    "                 \n",
    "def createVocabList(dataSet):  # 获取所有文档单词的并集\n",
    "    vocabSet = set()  #create empty set\n",
    "    for document in dataSet:\n",
    "        vocabSet = vocabSet | set(document) #union of the two sets\n",
    "    return list(vocabSet)\n",
    "\n",
    "def setOfWords2Vec(vocabList, inputSet):  # 标准化函数，构建输入矩阵 用于统计文档中各词出现情况\n",
    "    returnVec = [0]*len(vocabList)\n",
    "    for word in inputSet:\n",
    "        if word in vocabList:\n",
    "            returnVec[vocabList.index(word)] = 1\n",
    "        else: print (\"the word: %s is not in my Vocabulary!\" % word)\n",
    "    return returnVec"
   ]
  },
  {
   "cell_type": "code",
   "execution_count": 3,
   "metadata": {},
   "outputs": [
    {
     "name": "stdout",
     "output_type": "stream",
     "text": [
      "['garbage', 'love', 'flea', 'licks', 'ate', 'maybe', 'is', 'him', 'my', 'to', 'worthless', 'steak', 'park', 'stop', 'problems', 'cute', 'dalmation', 'mr', 'posting', 'stupid', 'I', 'has', 'quit', 'take', 'not', 'how', 'please', 'dog', 'help', 'food', 'so', 'buying']\n"
     ]
    }
   ],
   "source": [
    "listOPosts, listClasses = loadDataSet()\n",
    "myVocabList = createVocabList(listOPosts)\n",
    "print(myVocabList)"
   ]
  },
  {
   "cell_type": "code",
   "execution_count": 4,
   "metadata": {},
   "outputs": [
    {
     "data": {
      "text/plain": [
       "[0,\n",
       " 0,\n",
       " 1,\n",
       " 0,\n",
       " 0,\n",
       " 0,\n",
       " 0,\n",
       " 0,\n",
       " 1,\n",
       " 0,\n",
       " 0,\n",
       " 0,\n",
       " 0,\n",
       " 0,\n",
       " 1,\n",
       " 0,\n",
       " 0,\n",
       " 0,\n",
       " 0,\n",
       " 0,\n",
       " 0,\n",
       " 1,\n",
       " 0,\n",
       " 0,\n",
       " 0,\n",
       " 0,\n",
       " 1,\n",
       " 1,\n",
       " 1,\n",
       " 0,\n",
       " 0,\n",
       " 0]"
      ]
     },
     "execution_count": 4,
     "metadata": {},
     "output_type": "execute_result"
    }
   ],
   "source": [
    "setOfWords2Vec(myVocabList, listOPosts[0])"
   ]
  },
  {
   "cell_type": "code",
   "execution_count": 5,
   "metadata": {},
   "outputs": [],
   "source": [
    "def trainNBO(trainMatrix, trainCategory):\n",
    "    numTrainDocs = len(trainMatrix)\n",
    "    numWords = len(trainMatrix[0])\n",
    "    pAbusive = sum(trainCategory) / float(numTrainDocs)\n",
    "    p0Num = np.zeros(numWords)\n",
    "    p1Num = np.zeros(numWords)\n",
    "    p0Denom = p1Denom = 0.0  # 分母\n",
    "    for i in range(numTrainDocs):\n",
    "        if trainCategory[i] == 1:  # 条件概率 记录情况为垃圾文档时各个属性的累加和\n",
    "            p1Num += trainMatrix[i]\n",
    "            p1Denom += np.sum(trainMatrix[i])  # 记录垃圾邮件的总词数\n",
    "        else:\n",
    "            p0Num += trainMatrix[i]\n",
    "            p0Denom += sum(trainMatrix[i])\n",
    "    p1Vect = p1Num / p1Denom  # 由于是累加和所以要除以总词量求各个属性在垃圾邮件的概率\n",
    "    p0Vect = p0Num / p0Denom\n",
    "    return p0Vect , p1Vect, pAbusive"
   ]
  },
  {
   "cell_type": "code",
   "execution_count": 7,
   "metadata": {},
   "outputs": [],
   "source": [
    "listOPosts, listClasses = loadDataSet()\n",
    "myVocabList = createVocabList(listOPosts)\n",
    "trainMat = list()\n",
    "for postinDoc in listOPosts:\n",
    "    trainMat.append(setOfWords2Vec(myVocabList, postinDoc))\n",
    "p0v, p1v,pAb = trainNBO(trainMat, listClasses)"
   ]
  },
  {
   "cell_type": "markdown",
   "metadata": {},
   "source": [
    "# 拉普拉斯修正\n",
    "由于连乘时如果有一项为0那么结果为零，显然不合理，为了避免这种情况采用“拉普拉斯修正”\n",
    "具体来说，令N表示训练集D中可能的类数，$N_{i}$表示第$i$个属性可能的取值。\n",
    "\n",
    "那么对于先验概率: \n",
    "$\\hat{P}(c) = \\frac{\\left |D_{c} \\right| + 1}{\\left |D \\right| + N}$\n",
    "\n",
    "对于后验概率: $\\hat{P}(x_{i}|c) = \\frac{\\left |D_{c,x_{i}} \\right| + 1}{\\left |D \\right| + N_{i}}$\n",
    "\n",
    "# 计算下溢\n",
    "\n",
    "计算时如果存在多个非常小的数会导致无法得到正确结果，这是由于浮点数性质导致的（可以测试计算多个很小的浮点数看看结果是否正常）。\n",
    "\n",
    "由于采用贝叶斯假设所以各个属性完全独立，此时可以采用两边同时取对数： \n",
    "\n",
    "$ln(f(x_{1},x_{2} ... x_{i}|c)) = \\sum_{1}^{i} ln(f(x_{i}|c))$\n",
    "\n",
    "采用自然对数处理则不会有任何损失，由于变换后为复合函数，其中$ln(x)$的导数严格大于0不影响原函数的单调性，仍可以在原极值点处取得极值点，所以不对结果照成影响。"
   ]
  },
  {
   "cell_type": "code",
   "execution_count": 8,
   "metadata": {},
   "outputs": [],
   "source": [
    "# 根据现实情况修改分类器\n",
    "def trainNBO(trainMatrix, trainCategory):\n",
    "    numTrainDocs = len(trainMatrix)\n",
    "    numWords = len(trainMatrix[0])\n",
    "    pAbusive = sum(trainCategory) / float(numTrainDocs)\n",
    "    p0Num = np.ones(numWords)  # 对应于拉普拉斯修正的分母，初始值为1\n",
    "    p1Num = np.ones(numWords)\n",
    "    p0Denom = p1Denom = 2.0  # 拉普拉斯修正的分母，由于属性的取值只能为0或1两种所以初始值为2\n",
    "    for i in range(numTrainDocs):\n",
    "        if trainCategory[i] == 1:  # 条件概率 记录情况为垃圾文档时各个属性的累加和\n",
    "            p1Num += trainMatrix[i]\n",
    "            p1Denom += np.sum(trainMatrix[i])  # 记录垃圾邮件的总词数\n",
    "        else:\n",
    "            p0Num += trainMatrix[i]\n",
    "            p0Denom += sum(trainMatrix[i])\n",
    "    p1Vect = p1Num / p1Denom  # 由于是累加和所以要除以总词量求各个属性在垃圾邮件的概率\n",
    "    p0Vect = p0Num / p0Denom\n",
    "    return p0Vect , p1Vect, pAbusive"
   ]
  },
  {
   "cell_type": "code",
   "execution_count": 9,
   "metadata": {},
   "outputs": [
    {
     "name": "stdout",
     "output_type": "stream",
     "text": [
      "['love', 'my', 'dalmation'] classified as:  0\n",
      "['stupid', 'garbage'] classified as:  1\n"
     ]
    }
   ],
   "source": [
    "\"\"\"\n",
    "由于我们已经知道了垃圾邮箱和非垃圾邮箱下所有属性取值的概率，我们根据输入矩阵各项的属性值找到条件概率中符合条件的概率然后连乘\n",
    "但是此处比较特殊，由于我们只考虑词存在的概率（词集模型），当该词不存在的概率我们不需要考虑，所以直接拿输入矩阵与条件概率矩阵相乘\n",
    "又因为对连乘取对数之后结果就变成了各项相加\n",
    "\n",
    "\"\"\"\n",
    "def classifyNB(vec2Classify, p0Vec, p1Vec, pClass1):\n",
    "    \"\"\"\n",
    "    输入矩阵与条件概率矩阵相乘后相加\n",
    "    \"\"\"\n",
    "    p1 = sum(vec2Classify * p1Vec) + log(pClass1)    #element-wise mult\n",
    "    p0 = sum(vec2Classify * p0Vec) + log(1.0 - pClass1)\n",
    "    if p1 > p0:\n",
    "        return 1\n",
    "    else: \n",
    "        return 0\n",
    "\n",
    "def testingNB():\n",
    "    listOPosts,listClasses = loadDataSet()\n",
    "    myVocabList = createVocabList(listOPosts)  # 构造单词训练集合\n",
    "    trainMat=[]\n",
    "    for postinDoc in listOPosts:\n",
    "        trainMat.append(setOfWords2Vec(myVocabList, postinDoc))  # 构建训练矩阵（每一行是一个文档样本）\n",
    "    p0V,p1V,pAb = trainNBO(np.array(trainMat),np.array(listClasses))  # 计算条件概率矩阵和先验概率\n",
    "    testEntry = ['love', 'my', 'dalmation']\n",
    "    thisDoc = np.array(setOfWords2Vec(myVocabList, testEntry))  # 构建输入矩阵\n",
    "    print (testEntry,'classified as: ',classifyNB(thisDoc,p0V,p1V,pAb))  # 根据贝叶斯公式计算结果\n",
    "    testEntry = ['stupid', 'garbage']\n",
    "    thisDoc = np.array(setOfWords2Vec(myVocabList, testEntry))\n",
    "    print (testEntry,'classified as: ',classifyNB(thisDoc,p0V,p1V,pAb))\n",
    "testingNB()"
   ]
  },
  {
   "cell_type": "markdown",
   "metadata": {},
   "source": [
    "# 文档词袋模型\n",
    "目前为止，我们将每个词的出现与否作为一个特征，称为词集模型。\n",
    "如果一个词在文档中出现不止一次，这可能意味着包含该词是否出现在文档中所不能表现的某种信息,这种模型称为词袋模型。\n",
    "在词袋中，每个单词可以出现多次，而在词集中每个词只能出现一次。\n",
    "下面对我们的标准化函数进行修改："
   ]
  },
  {
   "cell_type": "code",
   "execution_count": null,
   "metadata": {},
   "outputs": [],
   "source": [
    "def bagOfWordsVecMN(vocabList, inputSet):\n",
    "    returnVec = [0] * len(vocabList)\n",
    "    for word in vocabList:\n",
    "        if word in vocabList:\n",
    "            returnVec[vocabList.index(word)] += 1\n",
    "    return returnVec"
   ]
  },
  {
   "cell_type": "code",
   "execution_count": 31,
   "metadata": {},
   "outputs": [
    {
     "name": "stdout",
     "output_type": "stream",
     "text": [
      "['Hello', 'Since', 'you', 'are', 'an', 'owner', 'of', 'at', 'least', 'one', 'Google', 'Groups', 'group', 'that', 'uses', 'the', 'customized', 'welcome', 'message', 'pages', 'or', 'files', 'we', 'are', 'writing', 'to', 'inform', 'you', 'that', 'we', 'will', 'no', 'longer', 'be', 'supporting', 'these', 'features', 'starting', 'February', '2011', 'We', 'made', 'this', 'decision', 'so', 'that', 'we', 'can', 'focus', 'on', 'improving', 'the', 'core', 'functionalities', 'of', 'Google', 'Groups', 'mailing', 'lists', 'and', 'forum', 'discussions', 'Instead', 'of', 'these', 'features', 'we', 'encourage', 'you', 'to', 'use', 'products', 'that', 'are', 'designed', 'specifically', 'for', 'file', 'storage', 'and', 'page', 'creation', 'such', 'as', 'Google', 'Docs', 'and', 'Google', 'Sites', 'For', 'example', 'you', 'can', 'easily', 'create', 'your', 'pages', 'on', 'Google', 'Sites', 'and', 'share', 'the', 'site', 'http', 'www', 'google', 'com', 'support', 'sites', 'bin', 'answer', 'py', 'hl', 'en', 'answer', '174623', 'with', 'the', 'members', 'of', 'your', 'group', 'You', 'can', 'also', 'store', 'your', 'files', 'on', 'the', 'site', 'by', 'attaching', 'files', 'to', 'pages', 'http', 'www', 'google', 'com', 'support', 'sites', 'bin', 'answer', 'py', 'hl', 'en', 'answer', '90563', 'on', 'the', 'site', 'If', 'you', 're', 'just', 'looking', 'for', 'a', 'place', 'to', 'upload', 'your', 'files', 'so', 'that', 'your', 'group', 'members', 'can', 'download', 'them', 'we', 'suggest', 'you', 'try', 'Google', 'Docs', 'You', 'can', 'upload', 'files', 'http', 'docs', 'google', 'com', 'support', 'bin', 'answer', 'py', 'hl', 'en', 'answer', '50092', 'and', 'share', 'access', 'with', 'either', 'a', 'group', 'http', 'docs', 'google', 'com', 'support', 'bin', 'answer', 'py', 'hl', 'en', 'answer', '66343', 'or', 'an', 'individual', 'http', 'docs', 'google', 'com', 'support', 'bin', 'answer', 'py', 'hl', 'en', 'answer', '86152', 'assigning', 'either', 'edit', 'or', 'download', 'only', 'access', 'to', 'the', 'files', 'you', 'have', 'received', 'this', 'mandatory', 'email', 'service', 'announcement', 'to', 'update', 'you', 'about', 'important', 'changes', 'to', 'Google', 'Groups', '']\n"
     ]
    },
    {
     "name": "stderr",
     "output_type": "stream",
     "text": [
      "/home/miku/anaconda2/envs/sun/lib/python3.5/site-packages/ipykernel_launcher.py:10: FutureWarning: split() requires a non-empty pattern match.\n",
      "  # Remove the CWD from sys.path while we load stuff.\n"
     ]
    }
   ],
   "source": [
    "# 测试邮件分类\n",
    "emailText = open(\"email/ham/6.txt\", \"r\",encoding=\"ISO-8859-1\").read()  # 此处文件编码为ISO\n",
    "\n",
    "# 接下来利用正则表达式对文本进行切分和正则化（最小化经验误差函数上加约束）\n",
    "\n",
    "import re\n",
    "\n",
    "regEx = re.compile(\"\\\\W*\")  # 切分文本\n",
    "\n",
    "listOfTokens = regEx.split(emailText)  \n",
    "\n",
    "print(listOfTokens)"
   ]
  },
  {
   "cell_type": "code",
   "execution_count": 32,
   "metadata": {},
   "outputs": [],
   "source": [
    "# 使用朴素贝叶斯进行交叉验证\n",
    "\n",
    "def textParse(bigString):\n",
    "    import re\n",
    "    listOfTokens = re.split(r\"\\W*\", bigString)  # 切分文本\n",
    "    return [tok.lower() for tok in listOfTokens if len(tok > 2)]  # 若不是单字母单词(如 I) ，则去掉大写\n",
    "\n",
    "def spamTest():\n",
    "    docList = []\n",
    "    classList = []\n",
    "    fullText = []\n",
    "    for i in range(1, 26):\n",
    "        "
   ]
  }
 ],
 "metadata": {
  "kernelspec": {
   "display_name": "Python 3",
   "language": "python",
   "name": "python3"
  },
  "language_info": {
   "codemirror_mode": {
    "name": "ipython",
    "version": 3
   },
   "file_extension": ".py",
   "mimetype": "text/x-python",
   "name": "python",
   "nbconvert_exporter": "python",
   "pygments_lexer": "ipython3",
   "version": "3.5.6"
  }
 },
 "nbformat": 4,
 "nbformat_minor": 2
}
