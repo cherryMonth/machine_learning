{
 "cells": [
  {
   "cell_type": "markdown",
   "metadata": {},
   "source": [
    "# logistic回归\n",
    "\n",
    "看书这几天加深了我对logistic的理解，特别是感知机和梯度下降算法。李航这本书难归难，需要极强的数学推导能力和理论基础才能看得懂。其中说了机器学习的三要素模型，策略，算法，模型就是学习的条件概率分布或者决策函数，策略就是要以什么样的准则或选择最优模型，算法就是学习模型的具体计算方法。"
   ]
  },
  {
   "cell_type": "code",
   "execution_count": 3,
   "metadata": {},
   "outputs": [],
   "source": [
    "import numpy as np\n",
    "\n",
    "def loadDataSet():\n",
    "    dataMat = []; labelMat = []\n",
    "    fr = open('testSet.txt')\n",
    "    for line in fr.readlines():\n",
    "        lineArr = line.strip().split()\n",
    "        dataMat.append([1.0, float(lineArr[0]), float(lineArr[1])])  \n",
    "        # 注意特征第一个维度值设置为1，为什么多个1呢，因为把偏置项b也放到了权重之中。\n",
    "        # 最后得到的回归函数形式为y=w[0]+w[1]*x1+...+w[N]*xN.\n",
    "        labelMat.append(int(lineArr[2]))\n",
    "    return dataMat,labelMat\n",
    "\n",
    "def sigmoid(inX):\n",
    "    return 1.0/(1+np.exp(-inX))\n",
    "\n",
    "def gradAscent(dataMatIn, classLabels):\n",
    "    dataMatrix = np.mat(dataMatIn)             #convert to NumPy matrix\n",
    "    labelMat = np.mat(classLabels).transpose() #convert to NumPy matrix\n",
    "    m,n = np.shape(dataMatrix)\n",
    "    alpha = 0.001\n",
    "    maxCycles = 500\n",
    "    weights = np.ones((n,1))\n",
    "    for k in range(maxCycles):              #heavy on matrix operations\n",
    "        h = sigmoid(dataMatrix*weights)     #matrix mult\n",
    "        error = (labelMat - h)              #vector subtraction\n",
    "        weights = weights + alpha * dataMatrix.transpose()* error #matrix mult\n",
    "    return weights"
   ]
  },
  {
   "cell_type": "code",
   "execution_count": 4,
   "metadata": {},
   "outputs": [
    {
     "data": {
      "text/plain": [
       "matrix([[ 4.12414349],\n",
       "        [ 0.48007329],\n",
       "        [-0.6168482 ]])"
      ]
     },
     "execution_count": 4,
     "metadata": {},
     "output_type": "execute_result"
    }
   ],
   "source": [
    "dataArr, labelMat = loadDataSet()\n",
    "gradAscent(dataArr, labelMat)"
   ]
  },
  {
   "cell_type": "code",
   "execution_count": 82,
   "metadata": {},
   "outputs": [],
   "source": [
    "def plotBestFit(weights):\n",
    "    import matplotlib.pyplot as plt\n",
    "    dataMat, labelMat = loadDataSet()\n",
    "    dataArr = np.array(dataMat)\n",
    "    n = np.shape(dataArr)[0]\n",
    "    xcord1 = []\n",
    "    ycord1 = []\n",
    "    xcord2 = []\n",
    "    ycord2 = []\n",
    "    for i in range(n):\n",
    "        if int(labelMat[i]) == 1:\n",
    "            xcord1.append(dataArr[i, 1])\n",
    "            ycord1.append(dataArr[i, 2])\n",
    "        else:\n",
    "            xcord2.append(dataArr[i, 1])\n",
    "            ycord2.append(dataArr[i, 2])\n",
    "    fig = plt.figure()\n",
    "    ax = fig.add_subplot(111)\n",
    "    ax.scatter(xcord1, ycord1, s=30, c='red', marker='s')\n",
    "    ax.scatter(xcord2, ycord2, s=30, c='green')\n",
    "    x = np.arange(-3, 3.0, 0.1)  # 生成-3到3的数组\n",
    "    y = (-weights[0] - weights[1] * x) / weights[2]  # 此处计算 0 = w0 + w1 * x + w2 * y\n",
    "    ax.plot(x,y)                                      # numpy的除号对于矩阵来说是对应元素相除\n",
    "    plt.show()"
   ]
  },
  {
   "cell_type": "code",
   "execution_count": 84,
   "metadata": {},
   "outputs": [
    {
     "data": {
      "image/png": "[encoded data removed]",
      "text/plain": [
       "<Figure size 432x288 with 1 Axes>"
      ]
     },
     "metadata": {
      "needs_background": "light"
     },
     "output_type": "display_data"
    }
   ],
   "source": [
    "dataArr, labelMat = loadDataSet()\n",
    "weight = gradAscent(dataArr, labelMat)\n",
    "plotBestFit(np.array(weight))"
   ]
  },
  {
   "cell_type": "markdown",
   "metadata": {},
   "source": [
    "# 随机梯度下降\n",
    "\n",
    "梯度下降算法比较精确，这是因为每次都对所有样本计算梯度取平均值获取，所以当样本过大时就会无法计算，向量化后的公式如下:\n",
    "$$\\theta = \\theta + aX^TE$$\n",
    "\n",
    "这个公式的意义就是每个$\\theta$的取值都等于其本身的值加上所有的样本在$J$特征下的投影(行向量)与该样本产生的误差(列向量)相乘得到的点阵。\n",
    "\n",
    "而随机梯度下降的公式则为:\n",
    "\n",
    "$$\\theta = \\theta + aEX^i$$\n",
    "\n",
    "随机梯度下降是一个极端，每次只使用一个样本进行迭代，公式意义就是每个$\\theta$的值都等于其本身加上第$i$个样本所有特征投影(行向量)与其对应的误差(列向量)的乘积。"
   ]
  },
  {
   "cell_type": "code",
   "execution_count": 112,
   "metadata": {},
   "outputs": [],
   "source": [
    "def stoGradAscent0(dataMatrix, classLabels):\n",
    "    m,n = np.shape(dataMatrix)\n",
    "    alpha = 0.01\n",
    "    data = np.array(dataMatrix)  # 此处要经过一次变化，因为dataMatrix是List要转换成array才能与浮点数相乘\n",
    "    weights = np.ones(n, dtype=np.float64)\n",
    "    for i in range(m):\n",
    "        h = sigmoid(sum(dataMatrix[i] *  weights))  # 数值\n",
    "        error = classLabels[i] - h  # 数值\n",
    "        weights = weights + alpha * error * data[i]  # 向量\n",
    "    return weights"
   ]
  },
  {
   "cell_type": "code",
   "execution_count": 113,
   "metadata": {},
   "outputs": [
    {
     "data": {
      "image/png": "[encoded data removed]",
      "text/plain": [
       "<Figure size 432x288 with 1 Axes>"
      ]
     },
     "metadata": {
      "needs_background": "light"
     },
     "output_type": "display_data"
    }
   ],
   "source": [
    "dataArr, labelMat = loadDataSet()\n",
    "weight = stoGradAscent0(dataArr, labelMat)\n",
    "plotBestFit(np.array(weight))"
   ]
  },
  {
   "cell_type": "code",
   "execution_count": null,
   "metadata": {},
   "outputs": [],
   "source": []
  }
 ],
 "metadata": {
  "kernelspec": {
   "display_name": "Python 3",
   "language": "python",
   "name": "python3"
  },
  "language_info": {
   "codemirror_mode": {
    "name": "ipython",
    "version": 3
   },
   "file_extension": ".py",
   "mimetype": "text/x-python",
   "name": "python",
   "nbconvert_exporter": "python",
   "pygments_lexer": "ipython3",
   "version": "3.5.4"
  }
 },
 "nbformat": 4,
 "nbformat_minor": 2
}
