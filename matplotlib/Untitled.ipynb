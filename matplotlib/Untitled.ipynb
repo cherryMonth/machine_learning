{
 "cells": [
  {
   "cell_type": "code",
   "execution_count": null,
   "metadata": {
    "collapsed": true
   },
   "outputs": [],
   "source": [
    "from matplotlib.pylab import date2num\n",
    "import datetime\n",
    " \n",
    "# 对tushare获取到的数据转换成candlestick_ohlc()方法可读取的格式\n",
    "data_list = []\n",
    "for dates,row in hist_data.iterrows():\n",
    "    # 将时间转换为数字\n",
    "    date_time = datetime.datetime.strptime(dates,'%Y-%m-%d')\n",
    "    t = date2num(date_time)\n",
    "    open,high,low,close = row[:4]\n",
    "    datas = (t,open,high,low,close)\n",
    "    data_list.append(datas)\n",
    " \n",
    "# 创建子图\n",
    "fig, ax = plt.subplots()\n",
    "fig.subplots_adjust(bottom=0.2)\n",
    "# 设置X轴刻度为日期时间\n",
    "ax.xaxis_date()\n",
    "plt.xticks(rotation=45)\n",
    "plt.yticks()\n",
    "plt.title(\"股票代码：601558两年K线图\")\n",
    "plt.xlabel(\"时间\")\n",
    "plt.ylabel(\"股价（元）\")\n",
    "mpf.candlestick_ohlc(ax,data_list,width=1.5,colorup='r',colordown='green')\n",
    "plt.grid()"
   ]
  }
 ],
 "metadata": {
  "kernelspec": {
   "display_name": "Python 2",
   "language": "python",
   "name": "python2"
  }
 },
 "nbformat": 4,
 "nbformat_minor": 2
}
