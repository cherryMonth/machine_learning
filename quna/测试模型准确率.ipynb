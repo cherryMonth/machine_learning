{
 "cells": [
  {
   "cell_type": "code",
   "execution_count": 12,
   "metadata": {},
   "outputs": [],
   "source": [
    "from sklearn.externals import joblib\n",
    "\n",
    "rf = joblib.load( 'random_forest.pkl')"
   ]
  },
  {
   "cell_type": "code",
   "execution_count": 13,
   "metadata": {},
   "outputs": [
    {
     "name": "stdout",
     "output_type": "stream",
     "text": [
      "2018-10-25 19:43:57,882 INFO sqlalchemy.engine.base.Engine SELECT CAST('test plain returns' AS VARCHAR(60)) AS anon_1\n",
      "2018-10-25 19:43:57,883 INFO sqlalchemy.engine.base.Engine ()\n",
      "2018-10-25 19:43:57,884 INFO sqlalchemy.engine.base.Engine SELECT CAST('test unicode returns' AS VARCHAR(60)) AS anon_1\n",
      "2018-10-25 19:43:57,885 INFO sqlalchemy.engine.base.Engine ()\n",
      "2018-10-25 19:43:57,885 INFO sqlalchemy.engine.base.Engine PRAGMA table_info(\"select level, hot,num, price, area from item;\")\n",
      "2018-10-25 19:43:57,891 INFO sqlalchemy.engine.base.Engine ()\n",
      "2018-10-25 19:43:57,893 INFO sqlalchemy.engine.base.Engine select level, hot,num, price, area from item;\n",
      "2018-10-25 19:43:57,894 INFO sqlalchemy.engine.base.Engine ()\n",
      "(1662, 4) (416, 4) (1662, 1) (416, 1)\n"
     ]
    },
    {
     "name": "stderr",
     "output_type": "stream",
     "text": [
      "/home/miku/anaconda2/envs/sun/lib/python3.5/site-packages/ipykernel_launcher.py:22: DataConversionWarning: Data with input dtype int64, float64 were all converted to float64 by the scale function.\n"
     ]
    }
   ],
   "source": [
    "from sklearn.model_selection import train_test_split\n",
    "from sklearn.ensemble import RandomForestClassifier\n",
    "import pandas as pd\n",
    "from sqlalchemy import create_engine\n",
    "import numpy as np\n",
    "\n",
    "engine = create_engine('sqlite:///MyDB.sqlite3', echo=True)\n",
    "\n",
    "data = pd.read_sql(\"select level, hot,num, price, area from item;\", con=engine)\n",
    "data = data[(data['level'] != '')]\n",
    "\n",
    "data[\"area\"] = data[\"area\"].apply(lambda x: x.replace(\"[\", \"\").replace(\"]\", \"\"))\n",
    "data[\"province\"] = data[\"area\"].apply(lambda x: x.split(\"·\")[0])\n",
    "city = list(set(data['province']))\n",
    "data['province'] = data['province'].apply(lambda x:city.index(x))\n",
    "\n",
    "train_data = data[['price', 'num','hot', 'province']]\n",
    "\n",
    "from sklearn.preprocessing import scale\n",
    "import numpy as np\n",
    "\n",
    "train_data = scale(train_data)\n",
    "\n",
    "y = data[['level']]\n",
    "\n",
    "# from imblearn.over_sampling import  SMOTE\n",
    "\n",
    "# train_data, y =  SMOTE().fit_sample(train_data, y)\n",
    "\n",
    "x_train,x_test,y_train,y_test = train_test_split(train_data,y,test_size=0.2)\n",
    "print(x_train.shape,x_test.shape,y_train.shape,y_test.shape)"
   ]
  },
  {
   "cell_type": "code",
   "execution_count": 14,
   "metadata": {},
   "outputs": [
    {
     "name": "stdout",
     "output_type": "stream",
     "text": [
      "0.6802884615384616\n"
     ]
    }
   ],
   "source": [
    "y_pred = rf.predict(x_test)\n",
    "score = rf.score(x_test,y_test)\n",
    "print(score)"
   ]
  },
  {
   "cell_type": "code",
   "execution_count": 15,
   "metadata": {},
   "outputs": [
    {
     "name": "stdout",
     "output_type": "stream",
     "text": [
      "              precision    recall  f1-score   support\n",
      "\n",
      "        3A景区       0.54      0.58      0.55        92\n",
      "        4A景区       0.83      0.70      0.76       267\n",
      "        5A景区       0.46      0.74      0.57        57\n",
      "\n",
      "   micro avg       0.68      0.68      0.68       416\n",
      "   macro avg       0.61      0.67      0.63       416\n",
      "weighted avg       0.72      0.68      0.69       416\n",
      "\n"
     ]
    }
   ],
   "source": [
    "from sklearn.metrics import classification_report\n",
    "\n",
    "print(classification_report(y_true=y_test, y_pred=y_pred))"
   ]
  },
  {
   "cell_type": "code",
   "execution_count": null,
   "metadata": {},
   "outputs": [],
   "source": []
  }
 ],
 "metadata": {
  "kernelspec": {
   "display_name": "Python 3",
   "language": "python",
   "name": "python3"
  },
  "language_info": {
   "codemirror_mode": {
    "name": "ipython",
    "version": 3
   },
   "file_extension": ".py",
   "mimetype": "text/x-python",
   "name": "python",
   "nbconvert_exporter": "python",
   "pygments_lexer": "ipython3",
   "version": "3.5.6"
  }
 },
 "nbformat": 4,
 "nbformat_minor": 2
}
