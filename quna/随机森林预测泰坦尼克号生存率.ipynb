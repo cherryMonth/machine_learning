{
 "cells": [
  {
   "cell_type": "code",
   "execution_count": 5,
   "metadata": {},
   "outputs": [
    {
     "name": "stdout",
     "output_type": "stream",
     "text": [
      "0.8288973384030418\n",
      "              precision    recall  f1-score   support\n",
      "\n",
      "           0       0.83      0.94      0.88       179\n",
      "           1       0.82      0.60      0.69        84\n",
      "\n",
      "   micro avg       0.83      0.83      0.83       263\n",
      "   macro avg       0.83      0.77      0.79       263\n",
      "weighted avg       0.83      0.83      0.82       263\n",
      "\n"
     ]
    },
    {
     "name": "stderr",
     "output_type": "stream",
     "text": [
      "/home/miku/anaconda2/envs/sun/lib/python3.5/site-packages/pandas/core/generic.py:5434: SettingWithCopyWarning: \n",
      "A value is trying to be set on a copy of a slice from a DataFrame\n",
      "\n",
      "See the caveats in the documentation: http://pandas.pydata.org/pandas-docs/stable/indexing.html#indexing-view-versus-copy\n",
      "  self._update_inplace(new_data)\n",
      "/home/miku/anaconda2/envs/sun/lib/python3.5/site-packages/ipykernel_launcher.py:20: DataConversionWarning: A column-vector y was passed when a 1d array was expected. Please change the shape of y to (n_samples,), for example using ravel().\n"
     ]
    },
    {
     "data": {
      "text/plain": [
       "['random_forest.pkl']"
      ]
     },
     "execution_count": 5,
     "metadata": {},
     "output_type": "execute_result"
    }
   ],
   "source": [
    "from sklearn.feature_extraction import DictVectorizer\n",
    "from sklearn.ensemble import RandomForestClassifier\n",
    "from sklearn.model_selection import train_test_split\n",
    "import pandas as pd\n",
    "# 网址可以直接复制\n",
    "data = pd.read_csv(\"titanic.txt\")\n",
    "# 取特征值\n",
    "x = data[['pclass','age','sex']]\n",
    "# 取目标值\n",
    "y = data[['survived']]\n",
    "x['age'].fillna(x['age'].mean(),axis=0,inplace=True)\n",
    "x_train,x_test,y_train,y_test = train_test_split(x,y,test_size=0.2)\n",
    "x_train = x_train.to_dict(orient='records')     # 加了orient=\"records\"  以行操作\n",
    "x_test = x_test.to_dict(orient='records')\n",
    "\n",
    "x_train = decv.fit_transform(x_train)  # 先拟合，后标准化\n",
    "x_test = decv.transform(x_test)\n",
    "\n",
    "rf = RandomForestClassifier(n_estimators=10)  # max_depth=10最大树深,\n",
    "rf.fit(x_train, y_train)\n",
    "y_pred = rf.predict(x_test)\n",
    "score = rf.score(x_test, y_test)\n",
    "print(score)\n",
    "\n",
    "# 打印报告\n",
    "from sklearn.metrics import classification_report\n",
    "print(classification_report(y_true=y_test,y_pred=y_pred))\n",
    "\n",
    "from sklearn.externals import joblib\n",
    "\n",
    "joblib.dump(rf, 'random_forest.pkl')"
   ]
  },
  {
   "cell_type": "code",
   "execution_count": 16,
   "metadata": {},
   "outputs": [
    {
     "name": "stdout",
     "output_type": "stream",
     "text": [
      "1313\n",
      "0.8483231707317073\n"
     ]
    }
   ],
   "source": [
    "from sklearn.externals import joblib\n",
    "x_train,x_test,y_train,y_test = train_test_split(x,y,test_size=0.0001)\n",
    "x_train = x_train.to_dict(orient='records')     # 加了orient=\"records\"  以行操作\n",
    "x_test = x_test.to_dict(orient='records')\n",
    "print(len(x))\n",
    "x_train = decv.fit_transform(x_train)  # 先拟合，后标准化\n",
    "x_test = decv.transform(x_test)\n",
    "rf_load = joblib.load('random_forest.pkl')\n",
    "score = rf_load.score(x_train, y_train)\n",
    "print(score)"
   ]
  },
  {
   "cell_type": "code",
   "execution_count": null,
   "metadata": {},
   "outputs": [],
   "source": []
  }
 ],
 "metadata": {
  "kernelspec": {
   "display_name": "Python 3",
   "language": "python",
   "name": "python3"
  },
  "language_info": {
   "codemirror_mode": {
    "name": "ipython",
    "version": 3
   },
   "file_extension": ".py",
   "mimetype": "text/x-python",
   "name": "python",
   "nbconvert_exporter": "python",
   "pygments_lexer": "ipython3",
   "version": "3.5.6"
  }
 },
 "nbformat": 4,
 "nbformat_minor": 2
}
