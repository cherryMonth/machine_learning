{
 "cells": [
  {
   "cell_type": "code",
   "execution_count": 3,
   "metadata": {},
   "outputs": [
    {
     "name": "stdout",
     "output_type": "stream",
     "text": [
      "0.8098859315589354\n",
      "              precision    recall  f1-score   support\n",
      "\n",
      "           0       0.83      0.90      0.86       174\n",
      "           1       0.76      0.64      0.70        89\n",
      "\n",
      "   micro avg       0.81      0.81      0.81       263\n",
      "   macro avg       0.79      0.77      0.78       263\n",
      "weighted avg       0.81      0.81      0.81       263\n",
      "\n"
     ]
    },
    {
     "name": "stderr",
     "output_type": "stream",
     "text": [
      "c:\\users\\11150\\appdata\\local\\programs\\python\\python35-32\\lib\\site-packages\\ipykernel_launcher.py:23: DataConversionWarning: A column-vector y was passed when a 1d array was expected. Please change the shape of y to (n_samples,), for example using ravel().\n"
     ]
    }
   ],
   "source": [
    "from sklearn.feature_extraction import DictVectorizer\n",
    "from sklearn.ensemble import RandomForestClassifier\n",
    "from sklearn.model_selection import train_test_split\n",
    "import pandas as pd\n",
    "# 网址可以直接复制\n",
    "data = pd.read_csv(\"titanic.txt\")\n",
    "# 取特征值\n",
    "x = data[['pclass','age','sex']]\n",
    "# 取目标值\n",
    "y = data[['survived']]\n",
    "x['age'].fillna(x['age'].mean(),axis=0,inplace=True)\n",
    "x_train,x_test,y_train,y_test = train_test_split(x,y,test_size=0.2)\n",
    "\n",
    "x_train = x_train.to_dict(orient='records')     # 加了orient=\"records\"  以行操作\n",
    "x_test = x_test.to_dict(orient='records')\n",
    "\n",
    "from sklearn.feature_extraction import DictVectorizer\n",
    "decv = DictVectorizer()\n",
    "x_train = decv.fit_transform(x_train)\n",
    "x_test = decv.transform(x_test)\n",
    "\n",
    "rf = RandomForestClassifier(n_estimators=10)    # max_depth=10最大树深,\n",
    "rf_model = rf.fit(x_train,y_train)\n",
    "y_pred = rf.predict(x_test)\n",
    "score = rf.score(x_test,y_test)\n",
    "print(score)\n",
    "\n",
    "# 打印报告\n",
    "from sklearn.metrics import classification_report\n",
    "print(classification_report(y_true=y_test,y_pred=y_pred))"
   ]
  },
  {
   "cell_type": "code",
   "execution_count": null,
   "metadata": {},
   "outputs": [],
   "source": []
  }
 ],
 "metadata": {
  "kernelspec": {
   "display_name": "Python 3",
   "language": "python",
   "name": "python3"
  },
  "language_info": {
   "codemirror_mode": {
    "name": "ipython",
    "version": 3
   },
   "file_extension": ".py",
   "mimetype": "text/x-python",
   "name": "python",
   "nbconvert_exporter": "python",
   "pygments_lexer": "ipython3",
   "version": "3.5.6"
  }
 },
 "nbformat": 4,
 "nbformat_minor": 2
}
