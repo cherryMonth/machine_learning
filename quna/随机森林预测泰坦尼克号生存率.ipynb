{
 "cells": [
  {
   "cell_type": "code",
   "execution_count": 4,
   "metadata": {},
   "outputs": [
    {
     "name": "stdout",
     "output_type": "stream",
     "text": [
      "0.7832699619771863\n",
      "              precision    recall  f1-score   support\n",
      "\n",
      "           0       0.79      0.92      0.85       172\n",
      "           1       0.77      0.53      0.63        91\n",
      "\n",
      "   micro avg       0.78      0.78      0.78       263\n",
      "   macro avg       0.78      0.72      0.74       263\n",
      "weighted avg       0.78      0.78      0.77       263\n",
      "\n"
     ]
    },
    {
     "name": "stderr",
     "output_type": "stream",
     "text": [
      "/home/miku/anaconda2/envs/sun/lib/python3.5/site-packages/pandas/core/generic.py:5434: SettingWithCopyWarning: \n",
      "A value is trying to be set on a copy of a slice from a DataFrame\n",
      "\n",
      "See the caveats in the documentation: http://pandas.pydata.org/pandas-docs/stable/indexing.html#indexing-view-versus-copy\n",
      "  self._update_inplace(new_data)\n",
      "/home/miku/anaconda2/envs/sun/lib/python3.5/site-packages/ipykernel_launcher.py:71: DataConversionWarning: A column-vector y was passed when a 1d array was expected. Please change the shape of y to (n_samples,), for example using ravel().\n"
     ]
    },
    {
     "data": {
      "text/plain": [
       "['random_forest.pkl']"
      ]
     },
     "execution_count": 4,
     "metadata": {},
     "output_type": "execute_result"
    }
   ],
   "source": [
    "from sklearn.feature_extraction import DictVectorizer\n",
    "from sklearn.ensemble import RandomForestClassifier\n",
    "from sklearn.model_selection import train_test_split\n",
    "import pandas as pd\n",
    "# 网址可以直接复制\n",
    "data = pd.read_csv('http://biostat.mc.vanderbilt.edu/wiki/pub/Main/DataSets/titanic.txt')\n",
    "# 取特征值\n",
    "x = data[['pclass','age','sex']]\n",
    "# 取目标值\n",
    "y = data[['survived']]\n",
    "x['age'].fillna(x['age'].mean(),axis=0,inplace=True)\n",
    "\n",
    "\"\"\"\n",
    "train_test_split 为划分数据集，返回四个结果\n",
    "第一个为训练特征矩阵，第二个为训练标签矩阵\n",
    "第三个为测试特征矩阵，第四个为测试标签矩阵\n",
    "\n",
    "test_size为两个数据集的比例\n",
    "random_state 为随机数种子，不同的种子得到的结果是不同的\n",
    "如果种子相同且不为零，那么结果是相同的，如果为零那么每次结果都是随机的\n",
    "\"\"\"\n",
    "\n",
    "x_train,x_test,y_train,y_test = train_test_split(x,y,test_size=0.2)\n",
    "\n",
    "\n",
    "\"\"\"\n",
    "参数orient可以是字符串{'dict', 'list', 'series', 'split', 'records', 'index'}中的\n",
    "任意一种来决定字典中值的类型\n",
    "字典dict（默认）：类似于{列：{索引：值}}这样格式的字典\n",
    "列表list：类似于{列：[值]}这种形式的字典\n",
    "序列series：类似于{列：序列（值）}这种形式的字典\n",
    "分解split：类似于{索引：[索引]，列：[列]，数据：[值]}这种形式的字典\n",
    "记录records：类似于[{列：值}，...，{列：值}]这种形式的列表\n",
    "索引index：类似于{索引：{列：值}}这种形式的字典\n",
    "\"\"\"\n",
    "\n",
    "x_train = x_train.to_dict(orient='records')     # 加了orient=\"records\"  以行操作\n",
    "x_test = x_test.to_dict(orient='records')\n",
    "\n",
    "\"\"\"\n",
    "DictVectorizer作用是把字典类型的列表向量化\n",
    "\n",
    "[{'sex': 'female', 'age': 28.0, 'pclass': '2nd'}, \n",
    "{'sex': 'female', 'age': 28.0, 'pclass': '2nd'}]\n",
    "\n",
    "这种格式变成\n",
    "\n",
    "[[47.          1.          0.          0.          1.          0.        ]\n",
    " [64.          1.          0.          0.          1.          0.        ]\n",
    " [31.19418104  0.          0.          1.          1.          0.        ]\n",
    " [31.19418104  0.          0.          1.          0.          1.        ]]\n",
    " \n",
    " 我们可以获取每一列的特征介绍\n",
    " ['age', 'pclass=1st', 'pclass=2nd', 'pclass=3rd', 'sex=female', 'sex=male']\n",
    " \n",
    " 可以发现其中非数值化数据变为单独的一个特征,但是这样导致整个矩阵变成稀疏矩阵，所以使用压缩矩阵存储\n",
    "  (0, 0)\t0.8333\n",
    "  (0, 2)\t1.0\n",
    "  (0, 5)\t1.0\n",
    " \n",
    " 可以发现，这是一个三元组（数据结构的压缩矩阵表示方法）\n",
    " 其中每一行中第一个元素是非0值的坐标，第二个为值\n",
    "\"\"\"\n",
    "\n",
    "decv = DictVectorizer()\n",
    "\n",
    "x_train = decv.fit_transform(x_train)  # 先拟合，后标准化\n",
    "x_test = decv.transform(x_test)\n",
    "\n",
    "rf = RandomForestClassifier(n_estimators=10)  # max_depth=10最大树深,\n",
    "rf.fit(x_train, y_train)\n",
    "y_pred = rf.predict(x_test)\n",
    "score = rf.score(x_test, y_test)\n",
    "print(score)\n",
    "\n",
    "# 打印报告\n",
    "\"\"\"\n",
    "精确度: 表示的是预测为正的样本中有多少是真正的正样本。\n",
    "召回率:表示的是样本中的正例有多少被预测正确了。\n",
    "F1值:2*精度*召回率/(精度+召回率)\n",
    "支持数: 该类在样本中出现的总次数\n",
    "\"\"\"\n",
    "from sklearn.metrics import classification_report\n",
    "print(classification_report(y_true=y_test,y_pred=y_pred))\n",
    "\n",
    "from sklearn.externals import joblib  # 保存模型，下次直接就能使用无需训练\n",
    "\n",
    "joblib.dump(rf, 'random_forest.pkl')"
   ]
  },
  {
   "cell_type": "code",
   "execution_count": 5,
   "metadata": {},
   "outputs": [
    {
     "name": "stdout",
     "output_type": "stream",
     "text": [
      "1313\n",
      "0.8467987804878049\n"
     ]
    }
   ],
   "source": [
    "from sklearn.externals import joblib\n",
    "x_train,x_test,y_train,y_test = train_test_split(x,y,test_size=0.0001)\n",
    "x_train = x_train.to_dict(orient='records')     # 加了orient=\"records\"  以行操作\n",
    "x_test = x_test.to_dict(orient='records')\n",
    "print(len(x))\n",
    "x_train = decv.fit_transform(x_train)  # 先拟合，后标准化\n",
    "x_test = decv.transform(x_test)\n",
    "rf_load = joblib.load('random_forest.pkl')\n",
    "score = rf_load.score(x_train, y_train)\n",
    "print(score)"
   ]
  },
  {
   "cell_type": "code",
   "execution_count": null,
   "metadata": {},
   "outputs": [],
   "source": []
  }
 ],
 "metadata": {
  "kernelspec": {
   "display_name": "Python 3",
   "language": "python",
   "name": "python3"
  },
  "language_info": {
   "codemirror_mode": {
    "name": "ipython",
    "version": 3
   },
   "file_extension": ".py",
   "mimetype": "text/x-python",
   "name": "python",
   "nbconvert_exporter": "python",
   "pygments_lexer": "ipython3",
   "version": "3.5.4"
  }
 },
 "nbformat": 4,
 "nbformat_minor": 2
}
