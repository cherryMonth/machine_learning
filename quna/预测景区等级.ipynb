{
 "cells": [
  {
   "cell_type": "code",
   "execution_count": 110,
   "metadata": {},
   "outputs": [
    {
     "name": "stdout",
     "output_type": "stream",
     "text": [
      "2018-10-25 19:43:26,090 INFO sqlalchemy.engine.base.Engine SELECT CAST('test plain returns' AS VARCHAR(60)) AS anon_1\n",
      "2018-10-25 19:43:26,091 INFO sqlalchemy.engine.base.Engine ()\n",
      "2018-10-25 19:43:26,093 INFO sqlalchemy.engine.base.Engine SELECT CAST('test unicode returns' AS VARCHAR(60)) AS anon_1\n",
      "2018-10-25 19:43:26,095 INFO sqlalchemy.engine.base.Engine ()\n",
      "2018-10-25 19:43:26,097 INFO sqlalchemy.engine.base.Engine PRAGMA table_info(\"select level, hot,num, price, area from item;\")\n",
      "2018-10-25 19:43:26,099 INFO sqlalchemy.engine.base.Engine ()\n",
      "2018-10-25 19:43:26,101 INFO sqlalchemy.engine.base.Engine select level, hot,num, price, area from item;\n",
      "2018-10-25 19:43:26,102 INFO sqlalchemy.engine.base.Engine ()\n"
     ]
    },
    {
     "name": "stderr",
     "output_type": "stream",
     "text": [
      "/home/miku/anaconda2/envs/sun/lib/python3.5/site-packages/ipykernel_launcher.py:22: DataConversionWarning: Data with input dtype int64, float64 were all converted to float64 by the scale function.\n",
      "/home/miku/anaconda2/envs/sun/lib/python3.5/site-packages/sklearn/utils/validation.py:752: DataConversionWarning: A column-vector y was passed when a 1d array was expected. Please change the shape of y to (n_samples, ), for example using ravel().\n",
      "  y = column_or_1d(y, warn=True)\n",
      "/home/miku/anaconda2/envs/sun/lib/python3.5/site-packages/sklearn/utils/validation.py:752: DataConversionWarning: A column-vector y was passed when a 1d array was expected. Please change the shape of y to (n_samples, ), for example using ravel().\n",
      "  y = column_or_1d(y, warn=True)\n"
     ]
    }
   ],
   "source": [
    "from sklearn.model_selection import train_test_split\n",
    "from sklearn.ensemble import RandomForestClassifier\n",
    "import pandas as pd\n",
    "from sqlalchemy import create_engine\n",
    "import numpy as np\n",
    "\n",
    "engine = create_engine('sqlite:///MyDB.sqlite3', echo=True)\n",
    "\n",
    "data = pd.read_sql(\"select level, hot,num, price, area from item;\", con=engine)\n",
    "data = data[(data['level'] != '')]\n",
    "\n",
    "data[\"area\"] = data[\"area\"].apply(lambda x: x.replace(\"[\", \"\").replace(\"]\", \"\"))\n",
    "data[\"province\"] = data[\"area\"].apply(lambda x: x.split(\"·\")[0])\n",
    "city = list(set(data['province']))\n",
    "data['province'] = data['province'].apply(lambda x:city.index(x))\n",
    "\n",
    "train_data = data[['price', 'num', 'hot', 'province']]\n",
    "\n",
    "from sklearn.preprocessing import scale\n",
    "import numpy as np\n",
    "\n",
    "train_data = scale(train_data)\n",
    "\n",
    "y = data[['level']]\n",
    "\n",
    "from imblearn.over_sampling import  SMOTE\n",
    "\n",
    "train_data, y =  SMOTE().fit_sample(train_data, y)\n",
    "\n",
    "x_train,x_test,y_train,y_test = train_test_split(train_data,y,test_size=0.2, stratify=y)"
   ]
  },
  {
   "cell_type": "code",
   "execution_count": 113,
   "metadata": {},
   "outputs": [
    {
     "name": "stdout",
     "output_type": "stream",
     "text": [
      "0.7400497512437811\n"
     ]
    }
   ],
   "source": [
    "rf = RandomForestClassifier(n_estimators=100,oob_score=True, n_jobs=1)    # max_depth=10最大树深,\n",
    "rf.fit(x_train,y_train)\n",
    "y_pred = rf.predict(x_test)\n",
    "score = rf.score(x_test,y_test)\n",
    "print(score)"
   ]
  },
  {
   "cell_type": "code",
   "execution_count": 114,
   "metadata": {},
   "outputs": [
    {
     "name": "stdout",
     "output_type": "stream",
     "text": [
      "              precision    recall  f1-score   support\n",
      "\n",
      "        3A景区       0.75      0.81      0.78       268\n",
      "        4A景区       0.69      0.60      0.64       268\n",
      "        5A景区       0.77      0.82      0.79       268\n",
      "\n",
      "   micro avg       0.74      0.74      0.74       804\n",
      "   macro avg       0.74      0.74      0.74       804\n",
      "weighted avg       0.74      0.74      0.74       804\n",
      "\n"
     ]
    }
   ],
   "source": [
    "from sklearn.metrics import classification_report\n",
    "\n",
    "\"\"\"\n",
    "精确度: 表示的是预测为正的样本中有多少是真正的正样本。\n",
    "召回率:表示的是样本中的正例有多少被预测正确了。\n",
    "F1值:2*精度*召回率/(精度+召回率)\n",
    "支持数: 该类在样本中出现的总次数\n",
    "\"\"\"\n",
    "\n",
    "print(classification_report(y_true=y_test, y_pred=y_pred))"
   ]
  },
  {
   "cell_type": "code",
   "execution_count": 115,
   "metadata": {},
   "outputs": [
    {
     "data": {
      "text/plain": [
       "['random_forest.pkl']"
      ]
     },
     "execution_count": 115,
     "metadata": {},
     "output_type": "execute_result"
    }
   ],
   "source": [
    "from sklearn.externals import joblib\n",
    "\n",
    "joblib.dump(rf, 'random_forest.pkl')"
   ]
  },
  {
   "cell_type": "code",
   "execution_count": null,
   "metadata": {},
   "outputs": [],
   "source": []
  }
 ],
 "metadata": {
  "kernelspec": {
   "display_name": "Python 3",
   "language": "python",
   "name": "python3"
  },
  "language_info": {
   "codemirror_mode": {
    "name": "ipython",
    "version": 3
   },
   "file_extension": ".py",
   "mimetype": "text/x-python",
   "name": "python",
   "nbconvert_exporter": "python",
   "pygments_lexer": "ipython3",
   "version": "3.5.6"
  }
 },
 "nbformat": 4,
 "nbformat_minor": 2
}
