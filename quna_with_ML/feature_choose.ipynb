{
 "cells": [
  {
   "cell_type": "code",
   "execution_count": 14,
   "metadata": {},
   "outputs": [
    {
     "name": "stdout",
     "output_type": "stream",
     "text": [
      "2018-10-25 19:37:23,792 INFO sqlalchemy.engine.base.Engine SELECT CAST('test plain returns' AS VARCHAR(60)) AS anon_1\n",
      "2018-10-25 19:37:23,794 INFO sqlalchemy.engine.base.Engine ()\n",
      "2018-10-25 19:37:23,800 INFO sqlalchemy.engine.base.Engine SELECT CAST('test unicode returns' AS VARCHAR(60)) AS anon_1\n",
      "2018-10-25 19:37:23,804 INFO sqlalchemy.engine.base.Engine ()\n",
      "2018-10-25 19:37:23,807 INFO sqlalchemy.engine.base.Engine PRAGMA table_info(\"select level, hot,num, price, area from item;\")\n",
      "2018-10-25 19:37:23,809 INFO sqlalchemy.engine.base.Engine ()\n",
      "2018-10-25 19:37:23,812 INFO sqlalchemy.engine.base.Engine select level, hot,num, price, area from item;\n",
      "2018-10-25 19:37:23,814 INFO sqlalchemy.engine.base.Engine ()\n"
     ]
    },
    {
     "name": "stderr",
     "output_type": "stream",
     "text": [
      "/home/miku/anaconda2/envs/sun/lib/python3.5/site-packages/ipykernel_launcher.py:22: DataConversionWarning: Data with input dtype int64, float64 were all converted to float64 by the scale function.\n",
      "/home/miku/anaconda2/envs/sun/lib/python3.5/site-packages/sklearn/utils/validation.py:752: DataConversionWarning: A column-vector y was passed when a 1d array was expected. Please change the shape of y to (n_samples, ), for example using ravel().\n",
      "  y = column_or_1d(y, warn=True)\n",
      "/home/miku/anaconda2/envs/sun/lib/python3.5/site-packages/sklearn/utils/validation.py:752: DataConversionWarning: A column-vector y was passed when a 1d array was expected. Please change the shape of y to (n_samples, ), for example using ravel().\n",
      "  y = column_or_1d(y, warn=True)\n"
     ]
    }
   ],
   "source": [
    "from sklearn.model_selection import train_test_split\n",
    "from sklearn.ensemble import RandomForestClassifier\n",
    "import pandas as pd\n",
    "from sqlalchemy import create_engine\n",
    "import numpy as np\n",
    "\n",
    "engine = create_engine('sqlite:///MyDB.sqlite3', echo=True)\n",
    "\n",
    "data = pd.read_sql(\"select level, hot,num, price, area from item;\", con=engine)\n",
    "data = data[(data['level'] != '')]\n",
    "\n",
    "data[\"area\"] = data[\"area\"].apply(lambda x: x.replace(\"[\", \"\").replace(\"]\", \"\"))\n",
    "data[\"province\"] = data[\"area\"].apply(lambda x: x.split(\"·\")[0])\n",
    "city = list(set(data['province']))\n",
    "data['province'] = data['province'].apply(lambda x:city.index(x))\n",
    "\n",
    "train_data = data[['price', 'num', 'hot', 'province']]\n",
    "\n",
    "from sklearn.preprocessing import scale\n",
    "import numpy as np\n",
    "\n",
    "train_data = scale(train_data)\n",
    "\n",
    "y = data[['level']]\n",
    "\n",
    "from imblearn.over_sampling import  SMOTE\n",
    "train_data, y =  SMOTE().fit_sample(train_data, y)"
   ]
  },
  {
   "cell_type": "code",
   "execution_count": 15,
   "metadata": {},
   "outputs": [],
   "source": [
    "from sklearn.ensemble import RandomForestClassifier"
   ]
  },
  {
   "cell_type": "code",
   "execution_count": 16,
   "metadata": {},
   "outputs": [
    {
     "name": "stdout",
     "output_type": "stream",
     "text": [
      "[0.26488405 0.30197947 0.20317331 0.22996317]\n"
     ]
    },
    {
     "name": "stderr",
     "output_type": "stream",
     "text": [
      "/home/miku/anaconda2/envs/sun/lib/python3.5/site-packages/sklearn/ensemble/forest.py:248: FutureWarning: The default value of n_estimators will change from 10 in version 0.20 to 100 in 0.22.\n",
      "  \"10 in version 0.20 to 100 in 0.22.\", FutureWarning)\n"
     ]
    }
   ],
   "source": [
    "rf = RandomForestClassifier(n_jobs=1)\n",
    "rf_model = rf.fit(train_data,y)\n",
    "importances = rf_model.feature_importances_\n",
    "print(importances)"
   ]
  }
 ],
 "metadata": {
  "kernelspec": {
   "display_name": "Python 3",
   "language": "python",
   "name": "python3"
  },
  "language_info": {
   "codemirror_mode": {
    "name": "ipython",
    "version": 3
   },
   "file_extension": ".py",
   "mimetype": "text/x-python",
   "name": "python",
   "nbconvert_exporter": "python",
   "pygments_lexer": "ipython3",
   "version": "3.5.6"
  }
 },
 "nbformat": 4,
 "nbformat_minor": 2
}
