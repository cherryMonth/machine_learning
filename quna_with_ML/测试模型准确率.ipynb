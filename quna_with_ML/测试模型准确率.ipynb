{
 "cells": [
  {
   "cell_type": "code",
   "execution_count": 146,
   "metadata": {},
   "outputs": [],
   "source": [
    "from sklearn.externals import joblib\n",
    "\n",
    "rf_adasyn_allknn = joblib.load( 'random_forest_adasyn_allknn.pkl')\n",
    "rf_adasyn_renn = joblib.load( 'random_forest_adasyn_renn.pkl')\n",
    "rf_adasyn = joblib.load( 'random_forest_adasyn_renn.pkl')\n",
    "rf_stome_allknn = joblib.load( 'random_forest_stome_allknn.pkl')\n",
    "rf_stome_renn = joblib.load( 'random_forest_stome_renn.pkl')\n",
    "rf_stome = joblib.load( 'random_forest_stome.pkl')\n",
    "a_a = a_r = a = s_a = s_r = s = 0.0\n",
    "rf = [rf_adasyn, rf_adasyn_renn,rf_adasyn_allknn,rf_stome,rf_stome_renn,rf_stome_allknn]\n",
    "result = [a,a_r,a_a,s,s_r,s_a]"
   ]
  },
  {
   "cell_type": "code",
   "execution_count": 147,
   "metadata": {},
   "outputs": [
    {
     "name": "stdout",
     "output_type": "stream",
     "text": [
      "2018-10-26 11:22:51,778 INFO sqlalchemy.engine.base.Engine SELECT CAST('test plain returns' AS VARCHAR(60)) AS anon_1\n",
      "2018-10-26 11:22:51,779 INFO sqlalchemy.engine.base.Engine ()\n",
      "2018-10-26 11:22:51,780 INFO sqlalchemy.engine.base.Engine SELECT CAST('test unicode returns' AS VARCHAR(60)) AS anon_1\n",
      "2018-10-26 11:22:51,781 INFO sqlalchemy.engine.base.Engine ()\n",
      "2018-10-26 11:22:51,781 INFO sqlalchemy.engine.base.Engine PRAGMA table_info(\"select level, hot,num, price, area from item;\")\n",
      "2018-10-26 11:22:51,782 INFO sqlalchemy.engine.base.Engine ()\n",
      "2018-10-26 11:22:51,783 INFO sqlalchemy.engine.base.Engine select level, hot,num, price, area from item;\n",
      "2018-10-26 11:22:51,784 INFO sqlalchemy.engine.base.Engine ()\n"
     ]
    },
    {
     "name": "stderr",
     "output_type": "stream",
     "text": [
      "/home/miku/anaconda2/envs/sun/lib/python3.5/site-packages/ipykernel_launcher.py:22: DataConversionWarning: Data with input dtype int64, float64 were all converted to float64 by the scale function.\n"
     ]
    }
   ],
   "source": [
    "from sklearn.model_selection import train_test_split\n",
    "from sklearn.ensemble import RandomForestClassifier\n",
    "import pandas as pd\n",
    "from sqlalchemy import create_engine\n",
    "import numpy as np\n",
    "\n",
    "engine = create_engine('sqlite:///MyDB.sqlite3', echo=True)\n",
    "\n",
    "data = pd.read_sql(\"select level, hot,num, price, area from item;\", con=engine)\n",
    "data = data[(data['level'] != '')]\n",
    "\n",
    "data[\"area\"] = data[\"area\"].apply(lambda x: x.replace(\"[\", \"\").replace(\"]\", \"\"))\n",
    "data[\"province\"] = data[\"area\"].apply(lambda x: x.split(\"·\")[0])\n",
    "city = list(set(data['province']))\n",
    "data['province'] = data['province'].apply(lambda x:city.index(x))\n",
    "\n",
    "train_data = data[['price', 'num','hot', 'province']]\n",
    "\n",
    "from sklearn.preprocessing import scale\n",
    "import numpy as np\n",
    "\n",
    "train_data = scale(train_data)\n",
    "\n",
    "y = data[['level']]"
   ]
  },
  {
   "cell_type": "code",
   "execution_count": 148,
   "metadata": {},
   "outputs": [
    {
     "name": "stdout",
     "output_type": "stream",
     "text": [
      "已经完成第1波预测\n",
      "已经完成第2波预测\n",
      "已经完成第3波预测\n",
      "已经完成第4波预测\n",
      "已经完成第5波预测\n",
      "已经完成第6波预测\n",
      "已经完成第7波预测\n",
      "已经完成第8波预测\n",
      "已经完成第9波预测\n",
      "已经完成第10波预测\n",
      "已经完成第11波预测\n",
      "已经完成第12波预测\n",
      "已经完成第13波预测\n",
      "已经完成第14波预测\n",
      "已经完成第15波预测\n",
      "已经完成第16波预测\n",
      "已经完成第17波预测\n",
      "已经完成第18波预测\n",
      "已经完成第19波预测\n",
      "已经完成第20波预测\n",
      "已经完成第21波预测\n",
      "已经完成第22波预测\n",
      "已经完成第23波预测\n",
      "已经完成第24波预测\n",
      "已经完成第25波预测\n",
      "已经完成第26波预测\n",
      "已经完成第27波预测\n",
      "已经完成第28波预测\n",
      "已经完成第29波预测\n",
      "已经完成第30波预测\n",
      "已经完成第31波预测\n",
      "已经完成第32波预测\n",
      "已经完成第33波预测\n",
      "已经完成第34波预测\n",
      "已经完成第35波预测\n",
      "已经完成第36波预测\n",
      "已经完成第37波预测\n",
      "已经完成第38波预测\n",
      "已经完成第39波预测\n",
      "已经完成第40波预测\n",
      "已经完成第41波预测\n",
      "已经完成第42波预测\n",
      "已经完成第43波预测\n",
      "已经完成第44波预测\n",
      "已经完成第45波预测\n",
      "已经完成第46波预测\n",
      "已经完成第47波预测\n",
      "已经完成第48波预测\n",
      "已经完成第49波预测\n",
      "已经完成第50波预测\n",
      "adasyn 准确率 0.42063778580024064\n",
      "adasyn re 准确率 0.42063778580024064\n",
      "adasyn all 准确率 0.5249338146811073\n",
      "stome 准确率 0.6510469314079421\n",
      "stome re 准确率 0.6754031287605295\n",
      "stome all 准确率 0.6625391095066187\n",
      "0.6754031287605295 4\n"
     ]
    }
   ],
   "source": [
    "count = 50\n",
    "for i in range(count):\n",
    "    x_train,x_test,y_train,y_test = train_test_split(train_data,y,test_size=0.2)\n",
    "    for j in rf:\n",
    "        result[rf.index(j)] += j.score(x_train,y_train)\n",
    "    print(\"已经完成第{}波预测\".format(i + 1))\n",
    "\n",
    "\n",
    "print(\"adasyn 准确率 {}\".format(result[0]/count))\n",
    "print(\"adasyn re 准确率 {}\".format(result[1]/count))\n",
    "print(\"adasyn all 准确率 {}\".format(result[2]/count))\n",
    "print(\"stome 准确率 {}\".format(result[3]/count))\n",
    "print(\"stome re 准确率 {}\".format(result[4]/count))\n",
    "print(\"stome all 准确率 {}\".format(result[5]/count))\n",
    "\n",
    "print(max(result)/count, result.index(max(result)))"
   ]
  },
  {
   "cell_type": "code",
   "execution_count": 121,
   "metadata": {
    "scrolled": true
   },
   "outputs": [
    {
     "name": "stdout",
     "output_type": "stream",
     "text": [
      "              precision    recall  f1-score   support\n",
      "\n",
      "        3A景区       0.50      0.35      0.41       330\n",
      "        4A景区       0.74      0.79      0.77      1070\n",
      "        5A景区       0.52      0.59      0.55       262\n",
      "\n",
      "   micro avg       0.67      0.67      0.67      1662\n",
      "   macro avg       0.59      0.58      0.58      1662\n",
      "weighted avg       0.66      0.67      0.66      1662\n",
      "\n"
     ]
    }
   ],
   "source": [
    "from sklearn.metrics import classification_report\n",
    "\n",
    "print(classification_report(y_true=y_train, y_pred=y_pred))"
   ]
  },
  {
   "cell_type": "code",
   "execution_count": null,
   "metadata": {},
   "outputs": [],
   "source": []
  }
 ],
 "metadata": {
  "kernelspec": {
   "display_name": "Python 3",
   "language": "python",
   "name": "python3"
  },
  "language_info": {
   "codemirror_mode": {
    "name": "ipython",
    "version": 3
   },
   "file_extension": ".py",
   "mimetype": "text/x-python",
   "name": "python",
   "nbconvert_exporter": "python",
   "pygments_lexer": "ipython3",
   "version": "3.5.6"
  }
 },
 "nbformat": 4,
 "nbformat_minor": 2
}
