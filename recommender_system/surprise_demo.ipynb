{
 "cells": [
  {
   "cell_type": "markdown",
   "metadata": {
    "collapsed": true
   },
   "source": [
    "# NormalPredictor\n",
    "\n",
    "第一种预测方法是假设评分数据来自一个正态分布\n",
    "\n",
    "```python\n",
    "def estimate(self, *_):\n",
    "    # 使用学到的均值和方差随机生成一个结果\n",
    "    return np.random.normal(self.trainset.global_mean, self.sigma)\n",
    "```"
   ]
  },
  {
   "cell_type": "code",
   "execution_count": 3,
   "metadata": {},
   "outputs": [
    {
     "name": "stdout",
     "output_type": "stream",
     "text": [
      "Evaluating RMSE, MAE of algorithm NormalPredictor.\n",
      "\n",
      "------------\n",
      "Fold 1\n",
      "RMSE: 1.5338\n",
      "MAE:  1.2349\n",
      "------------\n",
      "Fold 2\n",
      "RMSE: 1.5250\n",
      "MAE:  1.2223\n",
      "------------\n",
      "Fold 3\n",
      "RMSE: 1.5220\n",
      "MAE:  1.2253\n",
      "------------\n",
      "Fold 4\n",
      "RMSE: 1.5148\n",
      "MAE:  1.2159\n",
      "------------\n",
      "Fold 5\n",
      "RMSE: 1.5203\n",
      "MAE:  1.2186\n",
      "------------\n",
      "------------\n",
      "Mean RMSE: 1.5232\n",
      "Mean MAE : 1.2234\n",
      "------------\n",
      "------------\n",
      "defaultdict(<class 'list'>, {'mae': [1.23494447339732, 1.2222824110542407, 1.2253322148811259, 1.2158735922008619, 1.2185671151297497], 'rmse': [1.5337595480014676, 1.5249945503291342, 1.5219815155350584, 1.514839735431661, 1.5203214623726498]})\n"
     ]
    }
   ],
   "source": [
    "from surprise import NormalPredictor, evaluate\n",
    "from surprise import Dataset\n",
    "data = Dataset.load_builtin('ml-100k')\n",
    "algo = NormalPredictor()\n",
    "pref = evaluate(algo, data=data, measures=['RMSE', 'MAE'])\n",
    "print(pref)"
   ]
  },
  {
   "cell_type": "markdown",
   "metadata": {},
   "source": [
    "# BaselineOnly"
   ]
  },
  {
   "cell_type": "code",
   "execution_count": 4,
   "metadata": {},
   "outputs": [
    {
     "name": "stderr",
     "output_type": "stream",
     "text": [
      "/Users/song/anaconda3/envs/py3.5/lib/python3.5/site-packages/surprise/evaluate.py:66: UserWarning: The evaluate() method is deprecated. Please use model_selection.cross_validate() instead.\n",
      "  'model_selection.cross_validate() instead.', UserWarning)\n",
      "/Users/song/anaconda3/envs/py3.5/lib/python3.5/site-packages/surprise/dataset.py:193: UserWarning: Using data.split() or using load_from_folds() without using a CV iterator is now deprecated. \n",
      "  UserWarning)\n"
     ]
    },
    {
     "name": "stdout",
     "output_type": "stream",
     "text": [
      "Evaluating RMSE, MAE of algorithm BaselineOnly.\n",
      "\n",
      "------------\n",
      "Fold 1\n",
      "Estimating biases using als...\n",
      "RMSE: 0.9488\n",
      "MAE:  0.7514\n",
      "------------\n",
      "Fold 2\n",
      "Estimating biases using als...\n",
      "RMSE: 0.9432\n",
      "MAE:  0.7482\n",
      "------------\n",
      "Fold 3\n",
      "Estimating biases using als...\n",
      "RMSE: 0.9477\n",
      "MAE:  0.7531\n",
      "------------\n",
      "Fold 4\n",
      "Estimating biases using als...\n",
      "RMSE: 0.9375\n",
      "MAE:  0.7432\n",
      "------------\n",
      "Fold 5\n",
      "Estimating biases using als...\n",
      "RMSE: 0.9419\n",
      "MAE:  0.7458\n",
      "------------\n",
      "------------\n",
      "Mean RMSE: 0.9438\n",
      "Mean MAE : 0.7483\n",
      "------------\n",
      "------------\n"
     ]
    }
   ],
   "source": [
    "from surprise import BaselineOnly\n",
    "algo = BaselineOnly()\n",
    "perf = evaluate(algo, data, measures=['RMSE', 'MAE'])"
   ]
  },
  {
   "cell_type": "markdown",
   "metadata": {},
   "source": [
    "# KNNBasic"
   ]
  },
  {
   "cell_type": "code",
   "execution_count": 5,
   "metadata": {},
   "outputs": [
    {
     "name": "stderr",
     "output_type": "stream",
     "text": [
      "/Users/song/anaconda3/envs/py3.5/lib/python3.5/site-packages/surprise/evaluate.py:66: UserWarning: The evaluate() method is deprecated. Please use model_selection.cross_validate() instead.\n",
      "  'model_selection.cross_validate() instead.', UserWarning)\n",
      "/Users/song/anaconda3/envs/py3.5/lib/python3.5/site-packages/surprise/dataset.py:193: UserWarning: Using data.split() or using load_from_folds() without using a CV iterator is now deprecated. \n",
      "  UserWarning)\n"
     ]
    },
    {
     "name": "stdout",
     "output_type": "stream",
     "text": [
      "Evaluating RMSE, MAE of algorithm KNNBasic.\n",
      "\n",
      "------------\n",
      "Fold 1\n",
      "Computing the msd similarity matrix...\n",
      "Done computing similarity matrix.\n",
      "RMSE: 0.9868\n",
      "MAE:  0.7785\n",
      "------------\n",
      "Fold 2\n",
      "Computing the msd similarity matrix...\n",
      "Done computing similarity matrix.\n",
      "RMSE: 0.9770\n",
      "MAE:  0.7717\n",
      "------------\n",
      "Fold 3\n",
      "Computing the msd similarity matrix...\n",
      "Done computing similarity matrix.\n",
      "RMSE: 0.9830\n",
      "MAE:  0.7784\n",
      "------------\n",
      "Fold 4\n",
      "Computing the msd similarity matrix...\n",
      "Done computing similarity matrix.\n",
      "RMSE: 0.9698\n",
      "MAE:  0.7673\n",
      "------------\n",
      "Fold 5\n",
      "Computing the msd similarity matrix...\n",
      "Done computing similarity matrix.\n",
      "RMSE: 0.9798\n",
      "MAE:  0.7727\n",
      "------------\n",
      "------------\n",
      "Mean RMSE: 0.9793\n",
      "Mean MAE : 0.7737\n",
      "------------\n",
      "------------\n"
     ]
    },
    {
     "data": {
      "text/plain": [
       "CaseInsensitiveDefaultDict(list,\n",
       "                           {'mae': [0.7785164432389758,\n",
       "                             0.7717058364807412,\n",
       "                             0.7784191410967973,\n",
       "                             0.7672919257794759,\n",
       "                             0.7727261394276489],\n",
       "                            'rmse': [0.9868023176397909,\n",
       "                             0.9770299684694626,\n",
       "                             0.9830012247058081,\n",
       "                             0.9698400383511525,\n",
       "                             0.979799232535032]})"
      ]
     },
     "execution_count": 5,
     "metadata": {},
     "output_type": "execute_result"
    }
   ],
   "source": [
    "from surprise import KNNBasic, evaluate\n",
    "algo = KNNBasic()\n",
    "evaluate(algo, data, measures=['RMSE', 'MAE'])"
   ]
  },
  {
   "cell_type": "code",
   "execution_count": 6,
   "metadata": {},
   "outputs": [
    {
     "name": "stderr",
     "output_type": "stream",
     "text": [
      "/Users/song/anaconda3/envs/py3.5/lib/python3.5/site-packages/surprise/evaluate.py:66: UserWarning: The evaluate() method is deprecated. Please use model_selection.cross_validate() instead.\n",
      "  'model_selection.cross_validate() instead.', UserWarning)\n",
      "/Users/song/anaconda3/envs/py3.5/lib/python3.5/site-packages/surprise/dataset.py:193: UserWarning: Using data.split() or using load_from_folds() without using a CV iterator is now deprecated. \n",
      "  UserWarning)\n"
     ]
    },
    {
     "name": "stdout",
     "output_type": "stream",
     "text": [
      "Evaluating RMSE, MAE of algorithm KNNWithMeans.\n",
      "\n",
      "------------\n",
      "Fold 1\n",
      "Computing the msd similarity matrix...\n",
      "Done computing similarity matrix.\n",
      "RMSE: 0.9568\n",
      "MAE:  0.7525\n",
      "------------\n",
      "Fold 2\n",
      "Computing the msd similarity matrix...\n",
      "Done computing similarity matrix.\n",
      "RMSE: 0.9486\n",
      "MAE:  0.7487\n",
      "------------\n",
      "Fold 3\n",
      "Computing the msd similarity matrix...\n",
      "Done computing similarity matrix.\n",
      "RMSE: 0.9537\n",
      "MAE:  0.7532\n",
      "------------\n",
      "Fold 4\n",
      "Computing the msd similarity matrix...\n",
      "Done computing similarity matrix.\n",
      "RMSE: 0.9444\n",
      "MAE:  0.7433\n",
      "------------\n",
      "Fold 5\n",
      "Computing the msd similarity matrix...\n",
      "Done computing similarity matrix.\n",
      "RMSE: 0.9534\n",
      "MAE:  0.7501\n",
      "------------\n",
      "------------\n",
      "Mean RMSE: 0.9514\n",
      "Mean MAE : 0.7496\n",
      "------------\n",
      "------------\n"
     ]
    },
    {
     "data": {
      "text/plain": [
       "CaseInsensitiveDefaultDict(list,\n",
       "                           {'mae': [0.7525019093283862,\n",
       "                             0.7486732452573751,\n",
       "                             0.7531881392378503,\n",
       "                             0.7433050621138325,\n",
       "                             0.7501180994919783],\n",
       "                            'rmse': [0.9568040629341996,\n",
       "                             0.9485946227312065,\n",
       "                             0.9537296844986329,\n",
       "                             0.9444199849432304,\n",
       "                             0.9534291998682557]})"
      ]
     },
     "execution_count": 6,
     "metadata": {},
     "output_type": "execute_result"
    }
   ],
   "source": [
    "from surprise import KNNWithMeans\n",
    "algo = KNNWithMeans()\n",
    "evaluate(algo, data, measures=['RMSE', 'MAE'])"
   ]
  },
  {
   "cell_type": "code",
   "execution_count": 7,
   "metadata": {},
   "outputs": [
    {
     "name": "stderr",
     "output_type": "stream",
     "text": [
      "/Users/song/anaconda3/envs/py3.5/lib/python3.5/site-packages/surprise/evaluate.py:66: UserWarning: The evaluate() method is deprecated. Please use model_selection.cross_validate() instead.\n",
      "  'model_selection.cross_validate() instead.', UserWarning)\n",
      "/Users/song/anaconda3/envs/py3.5/lib/python3.5/site-packages/surprise/dataset.py:193: UserWarning: Using data.split() or using load_from_folds() without using a CV iterator is now deprecated. \n",
      "  UserWarning)\n"
     ]
    },
    {
     "name": "stdout",
     "output_type": "stream",
     "text": [
      "Evaluating RMSE, MAE of algorithm KNNBaseline.\n",
      "\n",
      "------------\n",
      "Fold 1\n",
      "Estimating biases using als...\n",
      "Computing the msd similarity matrix...\n",
      "Done computing similarity matrix.\n",
      "RMSE: 0.9352\n",
      "MAE:  0.7346\n",
      "------------\n",
      "Fold 2\n",
      "Estimating biases using als...\n",
      "Computing the msd similarity matrix...\n",
      "Done computing similarity matrix.\n",
      "RMSE: 0.9287\n",
      "MAE:  0.7321\n",
      "------------\n",
      "Fold 3\n",
      "Estimating biases using als...\n",
      "Computing the msd similarity matrix...\n",
      "Done computing similarity matrix.\n",
      "RMSE: 0.9343\n",
      "MAE:  0.7377\n",
      "------------\n",
      "Fold 4\n",
      "Estimating biases using als...\n",
      "Computing the msd similarity matrix...\n",
      "Done computing similarity matrix.\n",
      "RMSE: 0.9241\n",
      "MAE:  0.7287\n",
      "------------\n",
      "Fold 5\n",
      "Estimating biases using als...\n",
      "Computing the msd similarity matrix...\n",
      "Done computing similarity matrix.\n",
      "RMSE: 0.9314\n",
      "MAE:  0.7333\n",
      "------------\n",
      "------------\n",
      "Mean RMSE: 0.9307\n",
      "Mean MAE : 0.7333\n",
      "------------\n",
      "------------\n"
     ]
    },
    {
     "data": {
      "text/plain": [
       "CaseInsensitiveDefaultDict(list,\n",
       "                           {'mae': [0.7345760226613147,\n",
       "                             0.7320773607835009,\n",
       "                             0.7377461199015448,\n",
       "                             0.7287267535108616,\n",
       "                             0.7332889783821511],\n",
       "                            'rmse': [0.9352000389011046,\n",
       "                             0.9286591216772366,\n",
       "                             0.9342637971298955,\n",
       "                             0.9241400102675111,\n",
       "                             0.93142535823238]})"
      ]
     },
     "execution_count": 7,
     "metadata": {},
     "output_type": "execute_result"
    }
   ],
   "source": [
    "from surprise import KNNBaseline\n",
    "algo = KNNBaseline()\n",
    "evaluate(algo, data, measures=['RMSE', 'MAE'])"
   ]
  },
  {
   "cell_type": "code",
   "execution_count": 8,
   "metadata": {},
   "outputs": [
    {
     "name": "stderr",
     "output_type": "stream",
     "text": [
      "/Users/song/anaconda3/envs/py3.5/lib/python3.5/site-packages/surprise/evaluate.py:66: UserWarning: The evaluate() method is deprecated. Please use model_selection.cross_validate() instead.\n",
      "  'model_selection.cross_validate() instead.', UserWarning)\n",
      "/Users/song/anaconda3/envs/py3.5/lib/python3.5/site-packages/surprise/dataset.py:193: UserWarning: Using data.split() or using load_from_folds() without using a CV iterator is now deprecated. \n",
      "  UserWarning)\n"
     ]
    },
    {
     "name": "stdout",
     "output_type": "stream",
     "text": [
      "Evaluating RMSE, MAE of algorithm SVD.\n",
      "\n",
      "------------\n",
      "Fold 1\n",
      "RMSE: 0.9416\n",
      "MAE:  0.7421\n",
      "------------\n",
      "Fold 2\n",
      "RMSE: 0.9339\n",
      "MAE:  0.7376\n",
      "------------\n",
      "Fold 3\n",
      "RMSE: 0.9411\n",
      "MAE:  0.7436\n",
      "------------\n",
      "Fold 4\n",
      "RMSE: 0.9322\n",
      "MAE:  0.7349\n",
      "------------\n",
      "Fold 5\n",
      "RMSE: 0.9337\n",
      "MAE:  0.7354\n",
      "------------\n",
      "------------\n",
      "Mean RMSE: 0.9365\n",
      "Mean MAE : 0.7387\n",
      "------------\n",
      "------------\n"
     ]
    },
    {
     "data": {
      "text/plain": [
       "CaseInsensitiveDefaultDict(list,\n",
       "                           {'mae': [0.7421185373854962,\n",
       "                             0.737582679614189,\n",
       "                             0.7435646652745894,\n",
       "                             0.7349054778850089,\n",
       "                             0.7354295090921464],\n",
       "                            'rmse': [0.9415999616069802,\n",
       "                             0.9339304900038008,\n",
       "                             0.9411046717085448,\n",
       "                             0.9321848401131829,\n",
       "                             0.9337442769279344]})"
      ]
     },
     "execution_count": 8,
     "metadata": {},
     "output_type": "execute_result"
    }
   ],
   "source": [
    "from surprise import SVD, evaluate\n",
    "algo = SVD()\n",
    "evaluate(algo, data, measures=['RMSE', 'MAE'])"
   ]
  },
  {
   "cell_type": "code",
   "execution_count": null,
   "metadata": {},
   "outputs": [
    {
     "name": "stderr",
     "output_type": "stream",
     "text": [
      "/Users/song/anaconda3/envs/py3.5/lib/python3.5/site-packages/surprise/evaluate.py:66: UserWarning: The evaluate() method is deprecated. Please use model_selection.cross_validate() instead.\n",
      "  'model_selection.cross_validate() instead.', UserWarning)\n",
      "/Users/song/anaconda3/envs/py3.5/lib/python3.5/site-packages/surprise/dataset.py:193: UserWarning: Using data.split() or using load_from_folds() without using a CV iterator is now deprecated. \n",
      "  UserWarning)\n"
     ]
    },
    {
     "name": "stdout",
     "output_type": "stream",
     "text": [
      "Evaluating RMSE, MAE of algorithm SVDpp.\n",
      "\n",
      "------------\n",
      "Fold 1\n",
      "RMSE: 0.9249\n",
      "MAE:  0.7236\n",
      "------------\n",
      "Fold 2\n"
     ]
    }
   ],
   "source": [
    "from surprise import SVDpp\n",
    "algo = SVDpp()\n",
    "evaluate(algo, data, measures=['RMSE', 'MAE'])"
   ]
  },
  {
   "cell_type": "code",
   "execution_count": null,
   "metadata": {},
   "outputs": [],
   "source": [
    "from surprise import NMF\n",
    "algo = NMF()\n",
    "evaluate(algo, data, measures=['RMSE', 'MAE'])"
   ]
  },
  {
   "cell_type": "code",
   "execution_count": null,
   "metadata": {},
   "outputs": [],
   "source": []
  }
 ],
 "metadata": {
  "kernelspec": {
   "display_name": "Python 3",
   "language": "python",
   "name": "python3"
  },
  "language_info": {
   "codemirror_mode": {
    "name": "ipython",
    "version": 3
   },
   "file_extension": ".py",
   "mimetype": "text/x-python",
   "name": "python",
   "nbconvert_exporter": "python",
   "pygments_lexer": "ipython3",
   "version": "3.5.6"
  }
 },
 "nbformat": 4,
 "nbformat_minor": 1
}
